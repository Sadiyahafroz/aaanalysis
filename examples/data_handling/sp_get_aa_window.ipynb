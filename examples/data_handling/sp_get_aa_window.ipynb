{
 "cells": [
  {
   "cell_type": "markdown",
   "source": [
    "You can obtain a defined amino acid window (a subsequence of defined length) from a protein sequences using the ``SequencePreprocessor().get_aa_window()`` method. We first create an example sequence and the ``SequencePrepreprocessor()`` object as follows:"
   ],
   "metadata": {
    "collapsed": false
   },
   "id": "9c145a5f9339adbb"
  },
  {
   "cell_type": "code",
   "execution_count": null,
   "outputs": [],
   "source": [
    "import aaanalysis as aa\n",
    "\n",
    "seq = \"AACDEFGHII\"\n",
    "sp = aa.SequencePreprocessor()"
   ],
   "metadata": {
    "collapsed": false
   },
   "id": "72d98628b21cc579"
  }
 ],
 "metadata": {
  "kernelspec": {
   "display_name": "Python 3",
   "language": "python",
   "name": "python3"
  },
  "language_info": {
   "codemirror_mode": {
    "name": "ipython",
    "version": 2
   },
   "file_extension": ".py",
   "mimetype": "text/x-python",
   "name": "python",
   "nbconvert_exporter": "python",
   "pygments_lexer": "ipython2",
   "version": "2.7.6"
  }
 },
 "nbformat": 4,
 "nbformat_minor": 5
}
