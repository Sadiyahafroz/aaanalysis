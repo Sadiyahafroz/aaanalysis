{
 "cells": [
  {
   "cell_type": "markdown",
   "source": [
    "You can obtain a defined amino acid window (a subsequence of defined length) from a protein sequences using the ``SequencePreprocessor().get_aa_window()`` method. We first create an example sequence and the ``SequencePrepreprocessor()`` object as follows:"
   ],
   "metadata": {
    "collapsed": false
   },
   "id": "9c145a5f9339adbb"
  },
  {
   "cell_type": "code",
   "execution_count": 7,
   "outputs": [],
   "source": [
    "import aaanalysis as aa\n",
    "\n",
    "seq = \"ABCDEFGHIJ\"\n",
    "sp = aa.SequencePreprocessor()"
   ],
   "metadata": {
    "collapsed": false,
    "ExecuteTime": {
     "end_time": "2024-06-28T20:52:24.146057874Z",
     "start_time": "2024-06-28T20:52:24.127239352Z"
    }
   },
   "id": "72d98628b21cc579"
  },
  {
   "cell_type": "markdown",
   "source": [
    "Provide the sequence as ``seq`` parameter and specify a stop position using the ``pos_stop`` parameter:"
   ],
   "metadata": {
    "collapsed": false
   },
   "id": "9eaa238a85799db1"
  },
  {
   "cell_type": "code",
   "execution_count": 8,
   "outputs": [
    {
     "name": "stdout",
     "output_type": "stream",
     "text": [
      "ABCDEF\n"
     ]
    }
   ],
   "source": [
    "# Get amino acid window of size 5\n",
    "window = sp.get_aa_window(seq=seq, pos_stop=5)\n",
    "print(window)"
   ],
   "metadata": {
    "collapsed": false,
    "ExecuteTime": {
     "end_time": "2024-06-28T20:52:25.424581476Z",
     "start_time": "2024-06-28T20:52:25.408217659Z"
    }
   },
   "id": "fe88eb596c80ef26"
  },
  {
   "cell_type": "markdown",
   "source": [
    "You can change the start position (default=0) using the ``pos_start`` parameter:"
   ],
   "metadata": {
    "collapsed": false
   },
   "id": "e46c8a3a9dcdd036"
  },
  {
   "cell_type": "code",
   "execution_count": 9,
   "outputs": [
    {
     "name": "stdout",
     "output_type": "stream",
     "text": [
      "CDEF\n"
     ]
    }
   ],
   "source": [
    "# Get amino acid window of size 3\n",
    "window = sp.get_aa_window(seq=seq, pos_start=2, pos_stop=5)\n",
    "print(window)"
   ],
   "metadata": {
    "collapsed": false,
    "ExecuteTime": {
     "end_time": "2024-06-28T20:52:27.237153658Z",
     "start_time": "2024-06-28T20:52:27.220938514Z"
    }
   },
   "id": "7506d677660e735e"
  },
  {
   "cell_type": "markdown",
   "source": [
    "Instead of defining the stop position, you can set a specific length using the ``window_size`` parameter:"
   ],
   "metadata": {
    "collapsed": false
   },
   "id": "e474af83ff5ce2f7"
  },
  {
   "cell_type": "code",
   "execution_count": 10,
   "outputs": [
    {
     "name": "stdout",
     "output_type": "stream",
     "text": [
      "CDEFGHI\n"
     ]
    }
   ],
   "source": [
    "# Get amino acid window of size 7\n",
    "window = sp.get_aa_window(seq=seq, pos_start=2, window_size=7)\n",
    "print(window)"
   ],
   "metadata": {
    "collapsed": false,
    "ExecuteTime": {
     "end_time": "2024-06-28T20:52:28.787180252Z",
     "start_time": "2024-06-28T20:52:28.765053110Z"
    }
   },
   "id": "a47d93cdbe68badb"
  },
  {
   "cell_type": "markdown",
   "source": [
    "If you wish to start counting residue positions from 1 instead of 0, set ``index1=True``:"
   ],
   "metadata": {
    "collapsed": false
   },
   "id": "d29521220c9e05e4"
  },
  {
   "cell_type": "code",
   "execution_count": 13,
   "outputs": [
    {
     "name": "stdout",
     "output_type": "stream",
     "text": [
      "BCDEFGH\n"
     ]
    }
   ],
   "source": [
    "# Get amino acid window of size 7\n",
    "window = sp.get_aa_window(seq=seq, pos_start=2, window_size=7, index1=True)\n",
    "print(window)"
   ],
   "metadata": {
    "collapsed": false,
    "ExecuteTime": {
     "end_time": "2024-06-28T20:52:35.334609009Z",
     "start_time": "2024-06-28T20:52:35.286888336Z"
    }
   },
   "id": "b021192a2224e1c8"
  },
  {
   "cell_type": "markdown",
   "source": [
    "Selecting too long windows could result into ``gaps`` (default='-'), which can be disabled setting ``accept_gaps=False`` (by default enabled): "
   ],
   "metadata": {
    "collapsed": false
   },
   "id": "2bff6d12fa7a1e49"
  },
  {
   "cell_type": "code",
   "execution_count": 14,
   "outputs": [
    {
     "name": "stdout",
     "output_type": "stream",
     "text": [
      "CDEFGHIJ--\n"
     ]
    }
   ],
   "source": [
    "# Get amino acid window of size 10 (two gaps)\n",
    "window = sp.get_aa_window(seq=seq, pos_start=2, window_size=10, accept_gap=True)\n",
    "print(window)"
   ],
   "metadata": {
    "collapsed": false,
    "ExecuteTime": {
     "end_time": "2024-06-28T20:52:43.176075340Z",
     "start_time": "2024-06-28T20:52:43.159881823Z"
    }
   },
   "id": "3a7144777ab13cea"
  }
 ],
 "metadata": {
  "kernelspec": {
   "display_name": "Python 3",
   "language": "python",
   "name": "python3"
  },
  "language_info": {
   "codemirror_mode": {
    "name": "ipython",
    "version": 2
   },
   "file_extension": ".py",
   "mimetype": "text/x-python",
   "name": "python",
   "nbconvert_exporter": "python",
   "pygments_lexer": "ipython2",
   "version": "2.7.6"
  }
 },
 "nbformat": 4,
 "nbformat_minor": 5
}
