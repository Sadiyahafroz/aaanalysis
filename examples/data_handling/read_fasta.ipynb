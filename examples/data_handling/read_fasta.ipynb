{
 "cells": [
  {
   "cell_type": "markdown",
   "source": [
    "You can read FASTA files using the ``read_fasta()`` function:"
   ],
   "metadata": {
    "collapsed": false
   },
   "id": "f204a08b42e761b5"
  },
  {
   "cell_type": "code",
   "execution_count": 1,
   "outputs": [
    {
     "data": {
      "text/plain": "<IPython.core.display.HTML object>",
      "text/html": "<style type=\"text/css\">\n#T_f6ef0 thead th {\n  background-color: white;\n  color: black;\n}\n#T_f6ef0 tbody tr:nth-child(odd) {\n  background-color: #f2f2f2;\n}\n#T_f6ef0 tbody tr:nth-child(even) {\n  background-color: white;\n}\n#T_f6ef0 th {\n  padding: 5px;\n  white-space: nowrap;\n}\n#T_f6ef0  td {\n  padding: 5px;\n  white-space: nowrap;\n}\n</style>\n<table id=\"T_f6ef0\" style='display:block; max-height: 300px; max-width: 100%; overflow-x: auto; overflow-y: auto;'>\n  <thead>\n    <tr>\n      <th class=\"blank level0\" >&nbsp;</th>\n      <th id=\"T_f6ef0_level0_col0\" class=\"col_heading level0 col0\" >entry</th>\n      <th id=\"T_f6ef0_level0_col1\" class=\"col_heading level0 col1\" >sequence</th>\n    </tr>\n  </thead>\n  <tbody>\n    <tr>\n      <th id=\"T_f6ef0_level0_row0\" class=\"row_heading level0 row0\" >1</th>\n      <td id=\"T_f6ef0_row0_col0\" class=\"data row0 col0\" >SEMA4A,38.4</td>\n      <td id=\"T_f6ef0_row0_col1\" class=\"data row0 col1\" >LAAQQSYWPHFVTVT...IILVASPLRALRARG</td>\n    </tr>\n    <tr>\n      <th id=\"T_f6ef0_level0_row1\" class=\"row_heading level0 row1\" >2</th>\n      <td id=\"T_f6ef0_row1_col0\" class=\"data row1 col0\" >SEMA4B,47.0</td>\n      <td id=\"T_f6ef0_row1_col1\" class=\"data row1 col1\" >WGADRSYWKEFLVMC...LFLLYRHRNSMKVFL</td>\n    </tr>\n    <tr>\n      <th id=\"T_f6ef0_level0_row2\" class=\"row_heading level0 row2\" >3</th>\n      <td id=\"T_f6ef0_row2_col0\" class=\"data row2 col0\" >SEMA4C,86.6</td>\n      <td id=\"T_f6ef0_row2_col1\" class=\"data row2 col1\" >EARAPLENLGLVWLA...LLLVLSLRRRLREEL</td>\n    </tr>\n    <tr>\n      <th id=\"T_f6ef0_level0_row3\" class=\"row_heading level0 row3\" >4</th>\n      <td id=\"T_f6ef0_row3_col0\" class=\"data row3 col0\" >SEMA4D,19.1</td>\n      <td id=\"T_f6ef0_row3_col1\" class=\"data row3 col1\" >TMYLKSSDNRLLMSL...FFYNCYKGYLPRQCL</td>\n    </tr>\n    <tr>\n      <th id=\"T_f6ef0_level0_row4\" class=\"row_heading level0 row4\" >5</th>\n      <td id=\"T_f6ef0_row4_col0\" class=\"data row4 col0\" >SEMA4F,88.5</td>\n      <td id=\"T_f6ef0_row4_col1\" class=\"data row4 col1\" >RDAPSRAHTVGAGLA...TLILIGRRQQRRRQR</td>\n    </tr>\n    <tr>\n      <th id=\"T_f6ef0_level0_row5\" class=\"row_heading level0 row5\" >6</th>\n      <td id=\"T_f6ef0_row5_col0\" class=\"data row5 col0\" >SEMA4G,49.9</td>\n      <td id=\"T_f6ef0_row5_col1\" class=\"data row5 col1\" >GAQLAPDVRLLYVLA...ASSLLYVACLREGRR</td>\n    </tr>\n    <tr>\n      <th id=\"T_f6ef0_level0_row6\" class=\"row_heading level0 row6\" >7</th>\n      <td id=\"T_f6ef0_row6_col0\" class=\"data row6 col0\" >SEMA5A,28.1</td>\n      <td id=\"T_f6ef0_row6_col1\" class=\"data row6 col1\" >EEKRCGEFNMFHMIA...LTLLVYTYCQRYQQQ</td>\n    </tr>\n    <tr>\n      <th id=\"T_f6ef0_level0_row7\" class=\"row_heading level0 row7\" >8</th>\n      <td id=\"T_f6ef0_row7_col0\" class=\"data row7 col0\" >SEMA5B,30.0</td>\n      <td id=\"T_f6ef0_row7_col1\" class=\"data row7 col1\" >TDCAGFNLIHLVATG...LAVYLSCQHCQRQSQ</td>\n    </tr>\n    <tr>\n      <th id=\"T_f6ef0_level0_row8\" class=\"row_heading level0 row8\" >9</th>\n      <td id=\"T_f6ef0_row8_col0\" class=\"data row8 col0\" >SEMA6A,21.1</td>\n      <td id=\"T_f6ef0_row8_col1\" class=\"data row8 col1\" >KGHDQLVPVTLLAIA...SGITVYCVCDHRRKD</td>\n    </tr>\n    <tr>\n      <th id=\"T_f6ef0_level0_row9\" class=\"row_heading level0 row9\" >10</th>\n      <td id=\"T_f6ef0_row9_col0\" class=\"data row9 col0\" >SEMA6B,80.0</td>\n      <td id=\"T_f6ef0_row9_col1\" class=\"data row9 col1\" >VSVNLLVTSSVAAFV...WFVGLRERRELARRK</td>\n    </tr>\n    <tr>\n      <th id=\"T_f6ef0_level0_row10\" class=\"row_heading level0 row10\" >11</th>\n      <td id=\"T_f6ef0_row10_col0\" class=\"data row10 col0\" >SEMA6C,46.8</td>\n      <td id=\"T_f6ef0_row10_col1\" class=\"data row10 col1\" >ASASRSVPIPLLLAS...SGLLVSCACRRAHRR</td>\n    </tr>\n    <tr>\n      <th id=\"T_f6ef0_level0_row11\" class=\"row_heading level0 row11\" >12</th>\n      <td id=\"T_f6ef0_row11_col0\" class=\"data row11 col0\" >SEMA6D,37.7</td>\n      <td id=\"T_f6ef0_row11_col1\" class=\"data row11 col1\" >GESNQMVHMNVLITC...AGVAVYCYRDMFVRK</td>\n    </tr>\n  </tbody>\n</table>\n"
     },
     "metadata": {},
     "output_type": "display_data"
    }
   ],
   "source": [
    "import aaanalysis as aa\n",
    "file_path = \"data/example_FASTA.fasta\"\n",
    "df_seq = aa.read_fasta(file_path)\n",
    "aa.display_df(df_seq)"
   ],
   "metadata": {
    "collapsed": false,
    "ExecuteTime": {
     "end_time": "2024-05-03T07:25:15.300915714Z",
     "start_time": "2024-05-03T07:25:12.360756906Z"
    }
   },
   "id": "6221c1f3f94b587"
  },
  {
   "cell_type": "markdown",
   "source": [
    "To adjust the names of the columns for the primary FASTA file information, use the ``col_id`` and ``col_seq`` parameters:"
   ],
   "metadata": {
    "collapsed": false
   },
   "id": "6195ed555b5e7680"
  },
  {
   "cell_type": "code",
   "execution_count": 2,
   "outputs": [
    {
     "data": {
      "text/plain": "<IPython.core.display.HTML object>",
      "text/html": "<style type=\"text/css\">\n#T_da814 thead th {\n  background-color: white;\n  color: black;\n}\n#T_da814 tbody tr:nth-child(odd) {\n  background-color: #f2f2f2;\n}\n#T_da814 tbody tr:nth-child(even) {\n  background-color: white;\n}\n#T_da814 th {\n  padding: 5px;\n  white-space: nowrap;\n}\n#T_da814  td {\n  padding: 5px;\n  white-space: nowrap;\n}\n</style>\n<table id=\"T_da814\" style='display:block; max-height: 300px; max-width: 100%; overflow-x: auto; overflow-y: auto;'>\n  <thead>\n    <tr>\n      <th class=\"blank level0\" >&nbsp;</th>\n      <th id=\"T_da814_level0_col0\" class=\"col_heading level0 col0\" >ENTRY</th>\n      <th id=\"T_da814_level0_col1\" class=\"col_heading level0 col1\" >SEQUENCE</th>\n    </tr>\n  </thead>\n  <tbody>\n    <tr>\n      <th id=\"T_da814_level0_row0\" class=\"row_heading level0 row0\" >1</th>\n      <td id=\"T_da814_row0_col0\" class=\"data row0 col0\" >SEMA4A,38.4</td>\n      <td id=\"T_da814_row0_col1\" class=\"data row0 col1\" >LAAQQSYWPHFVTVT...IILVASPLRALRARG</td>\n    </tr>\n    <tr>\n      <th id=\"T_da814_level0_row1\" class=\"row_heading level0 row1\" >2</th>\n      <td id=\"T_da814_row1_col0\" class=\"data row1 col0\" >SEMA4B,47.0</td>\n      <td id=\"T_da814_row1_col1\" class=\"data row1 col1\" >WGADRSYWKEFLVMC...LFLLYRHRNSMKVFL</td>\n    </tr>\n    <tr>\n      <th id=\"T_da814_level0_row2\" class=\"row_heading level0 row2\" >3</th>\n      <td id=\"T_da814_row2_col0\" class=\"data row2 col0\" >SEMA4C,86.6</td>\n      <td id=\"T_da814_row2_col1\" class=\"data row2 col1\" >EARAPLENLGLVWLA...LLLVLSLRRRLREEL</td>\n    </tr>\n    <tr>\n      <th id=\"T_da814_level0_row3\" class=\"row_heading level0 row3\" >4</th>\n      <td id=\"T_da814_row3_col0\" class=\"data row3 col0\" >SEMA4D,19.1</td>\n      <td id=\"T_da814_row3_col1\" class=\"data row3 col1\" >TMYLKSSDNRLLMSL...FFYNCYKGYLPRQCL</td>\n    </tr>\n    <tr>\n      <th id=\"T_da814_level0_row4\" class=\"row_heading level0 row4\" >5</th>\n      <td id=\"T_da814_row4_col0\" class=\"data row4 col0\" >SEMA4F,88.5</td>\n      <td id=\"T_da814_row4_col1\" class=\"data row4 col1\" >RDAPSRAHTVGAGLA...TLILIGRRQQRRRQR</td>\n    </tr>\n    <tr>\n      <th id=\"T_da814_level0_row5\" class=\"row_heading level0 row5\" >6</th>\n      <td id=\"T_da814_row5_col0\" class=\"data row5 col0\" >SEMA4G,49.9</td>\n      <td id=\"T_da814_row5_col1\" class=\"data row5 col1\" >GAQLAPDVRLLYVLA...ASSLLYVACLREGRR</td>\n    </tr>\n    <tr>\n      <th id=\"T_da814_level0_row6\" class=\"row_heading level0 row6\" >7</th>\n      <td id=\"T_da814_row6_col0\" class=\"data row6 col0\" >SEMA5A,28.1</td>\n      <td id=\"T_da814_row6_col1\" class=\"data row6 col1\" >EEKRCGEFNMFHMIA...LTLLVYTYCQRYQQQ</td>\n    </tr>\n    <tr>\n      <th id=\"T_da814_level0_row7\" class=\"row_heading level0 row7\" >8</th>\n      <td id=\"T_da814_row7_col0\" class=\"data row7 col0\" >SEMA5B,30.0</td>\n      <td id=\"T_da814_row7_col1\" class=\"data row7 col1\" >TDCAGFNLIHLVATG...LAVYLSCQHCQRQSQ</td>\n    </tr>\n    <tr>\n      <th id=\"T_da814_level0_row8\" class=\"row_heading level0 row8\" >9</th>\n      <td id=\"T_da814_row8_col0\" class=\"data row8 col0\" >SEMA6A,21.1</td>\n      <td id=\"T_da814_row8_col1\" class=\"data row8 col1\" >KGHDQLVPVTLLAIA...SGITVYCVCDHRRKD</td>\n    </tr>\n    <tr>\n      <th id=\"T_da814_level0_row9\" class=\"row_heading level0 row9\" >10</th>\n      <td id=\"T_da814_row9_col0\" class=\"data row9 col0\" >SEMA6B,80.0</td>\n      <td id=\"T_da814_row9_col1\" class=\"data row9 col1\" >VSVNLLVTSSVAAFV...WFVGLRERRELARRK</td>\n    </tr>\n    <tr>\n      <th id=\"T_da814_level0_row10\" class=\"row_heading level0 row10\" >11</th>\n      <td id=\"T_da814_row10_col0\" class=\"data row10 col0\" >SEMA6C,46.8</td>\n      <td id=\"T_da814_row10_col1\" class=\"data row10 col1\" >ASASRSVPIPLLLAS...SGLLVSCACRRAHRR</td>\n    </tr>\n    <tr>\n      <th id=\"T_da814_level0_row11\" class=\"row_heading level0 row11\" >12</th>\n      <td id=\"T_da814_row11_col0\" class=\"data row11 col0\" >SEMA6D,37.7</td>\n      <td id=\"T_da814_row11_col1\" class=\"data row11 col1\" >GESNQMVHMNVLITC...AGVAVYCYRDMFVRK</td>\n    </tr>\n  </tbody>\n</table>\n"
     },
     "metadata": {},
     "output_type": "display_data"
    }
   ],
   "source": [
    "df_seq = aa.read_fasta(file_path, col_id=\"ENTRY\", col_seq=\"SEQUENCE\")\n",
    "aa.display_df(df_seq)"
   ],
   "metadata": {
    "collapsed": false,
    "ExecuteTime": {
     "end_time": "2024-05-03T07:25:15.330727674Z",
     "start_time": "2024-05-03T07:25:15.302066592Z"
    }
   },
   "id": "8d4c33fedb070859"
  },
  {
   "cell_type": "markdown",
   "source": [
    "The ``col_id`` column should only contain the unique identifier. If the FASTA file comprises additional information, use the ``sep`` (default='|') argument to save them in additional columns, named ``info1`` to ``info(n)``:"
   ],
   "metadata": {
    "collapsed": false
   },
   "id": "d0ed30c599bcde82"
  },
  {
   "cell_type": "code",
   "execution_count": 3,
   "outputs": [
    {
     "data": {
      "text/plain": "<IPython.core.display.HTML object>",
      "text/html": "<style type=\"text/css\">\n#T_53121 thead th {\n  background-color: white;\n  color: black;\n}\n#T_53121 tbody tr:nth-child(odd) {\n  background-color: #f2f2f2;\n}\n#T_53121 tbody tr:nth-child(even) {\n  background-color: white;\n}\n#T_53121 th {\n  padding: 5px;\n  white-space: nowrap;\n}\n#T_53121  td {\n  padding: 5px;\n  white-space: nowrap;\n}\n</style>\n<table id=\"T_53121\" style='display:block; max-height: 300px; max-width: 100%; overflow-x: auto; overflow-y: auto;'>\n  <thead>\n    <tr>\n      <th class=\"blank level0\" >&nbsp;</th>\n      <th id=\"T_53121_level0_col0\" class=\"col_heading level0 col0\" >entry</th>\n      <th id=\"T_53121_level0_col1\" class=\"col_heading level0 col1\" >sequence</th>\n      <th id=\"T_53121_level0_col2\" class=\"col_heading level0 col2\" >info1</th>\n    </tr>\n  </thead>\n  <tbody>\n    <tr>\n      <th id=\"T_53121_level0_row0\" class=\"row_heading level0 row0\" >1</th>\n      <td id=\"T_53121_row0_col0\" class=\"data row0 col0\" >SEMA4A</td>\n      <td id=\"T_53121_row0_col1\" class=\"data row0 col1\" >LAAQQSYWPHFVTVT...IILVASPLRALRARG</td>\n      <td id=\"T_53121_row0_col2\" class=\"data row0 col2\" >38.4</td>\n    </tr>\n    <tr>\n      <th id=\"T_53121_level0_row1\" class=\"row_heading level0 row1\" >2</th>\n      <td id=\"T_53121_row1_col0\" class=\"data row1 col0\" >SEMA4B</td>\n      <td id=\"T_53121_row1_col1\" class=\"data row1 col1\" >WGADRSYWKEFLVMC...LFLLYRHRNSMKVFL</td>\n      <td id=\"T_53121_row1_col2\" class=\"data row1 col2\" >47.0</td>\n    </tr>\n    <tr>\n      <th id=\"T_53121_level0_row2\" class=\"row_heading level0 row2\" >3</th>\n      <td id=\"T_53121_row2_col0\" class=\"data row2 col0\" >SEMA4C</td>\n      <td id=\"T_53121_row2_col1\" class=\"data row2 col1\" >EARAPLENLGLVWLA...LLLVLSLRRRLREEL</td>\n      <td id=\"T_53121_row2_col2\" class=\"data row2 col2\" >86.6</td>\n    </tr>\n    <tr>\n      <th id=\"T_53121_level0_row3\" class=\"row_heading level0 row3\" >4</th>\n      <td id=\"T_53121_row3_col0\" class=\"data row3 col0\" >SEMA4D</td>\n      <td id=\"T_53121_row3_col1\" class=\"data row3 col1\" >TMYLKSSDNRLLMSL...FFYNCYKGYLPRQCL</td>\n      <td id=\"T_53121_row3_col2\" class=\"data row3 col2\" >19.1</td>\n    </tr>\n    <tr>\n      <th id=\"T_53121_level0_row4\" class=\"row_heading level0 row4\" >5</th>\n      <td id=\"T_53121_row4_col0\" class=\"data row4 col0\" >SEMA4F</td>\n      <td id=\"T_53121_row4_col1\" class=\"data row4 col1\" >RDAPSRAHTVGAGLA...TLILIGRRQQRRRQR</td>\n      <td id=\"T_53121_row4_col2\" class=\"data row4 col2\" >88.5</td>\n    </tr>\n    <tr>\n      <th id=\"T_53121_level0_row5\" class=\"row_heading level0 row5\" >6</th>\n      <td id=\"T_53121_row5_col0\" class=\"data row5 col0\" >SEMA4G</td>\n      <td id=\"T_53121_row5_col1\" class=\"data row5 col1\" >GAQLAPDVRLLYVLA...ASSLLYVACLREGRR</td>\n      <td id=\"T_53121_row5_col2\" class=\"data row5 col2\" >49.9</td>\n    </tr>\n    <tr>\n      <th id=\"T_53121_level0_row6\" class=\"row_heading level0 row6\" >7</th>\n      <td id=\"T_53121_row6_col0\" class=\"data row6 col0\" >SEMA5A</td>\n      <td id=\"T_53121_row6_col1\" class=\"data row6 col1\" >EEKRCGEFNMFHMIA...LTLLVYTYCQRYQQQ</td>\n      <td id=\"T_53121_row6_col2\" class=\"data row6 col2\" >28.1</td>\n    </tr>\n    <tr>\n      <th id=\"T_53121_level0_row7\" class=\"row_heading level0 row7\" >8</th>\n      <td id=\"T_53121_row7_col0\" class=\"data row7 col0\" >SEMA5B</td>\n      <td id=\"T_53121_row7_col1\" class=\"data row7 col1\" >TDCAGFNLIHLVATG...LAVYLSCQHCQRQSQ</td>\n      <td id=\"T_53121_row7_col2\" class=\"data row7 col2\" >30.0</td>\n    </tr>\n    <tr>\n      <th id=\"T_53121_level0_row8\" class=\"row_heading level0 row8\" >9</th>\n      <td id=\"T_53121_row8_col0\" class=\"data row8 col0\" >SEMA6A</td>\n      <td id=\"T_53121_row8_col1\" class=\"data row8 col1\" >KGHDQLVPVTLLAIA...SGITVYCVCDHRRKD</td>\n      <td id=\"T_53121_row8_col2\" class=\"data row8 col2\" >21.1</td>\n    </tr>\n    <tr>\n      <th id=\"T_53121_level0_row9\" class=\"row_heading level0 row9\" >10</th>\n      <td id=\"T_53121_row9_col0\" class=\"data row9 col0\" >SEMA6B</td>\n      <td id=\"T_53121_row9_col1\" class=\"data row9 col1\" >VSVNLLVTSSVAAFV...WFVGLRERRELARRK</td>\n      <td id=\"T_53121_row9_col2\" class=\"data row9 col2\" >80.0</td>\n    </tr>\n    <tr>\n      <th id=\"T_53121_level0_row10\" class=\"row_heading level0 row10\" >11</th>\n      <td id=\"T_53121_row10_col0\" class=\"data row10 col0\" >SEMA6C</td>\n      <td id=\"T_53121_row10_col1\" class=\"data row10 col1\" >ASASRSVPIPLLLAS...SGLLVSCACRRAHRR</td>\n      <td id=\"T_53121_row10_col2\" class=\"data row10 col2\" >46.8</td>\n    </tr>\n    <tr>\n      <th id=\"T_53121_level0_row11\" class=\"row_heading level0 row11\" >12</th>\n      <td id=\"T_53121_row11_col0\" class=\"data row11 col0\" >SEMA6D</td>\n      <td id=\"T_53121_row11_col1\" class=\"data row11 col1\" >GESNQMVHMNVLITC...AGVAVYCYRDMFVRK</td>\n      <td id=\"T_53121_row11_col2\" class=\"data row11 col2\" >37.7</td>\n    </tr>\n  </tbody>\n</table>\n"
     },
     "metadata": {},
     "output_type": "display_data"
    }
   ],
   "source": [
    "df_seq = aa.read_fasta(file_path, sep=\",\")\n",
    "aa.display_df(df_seq)"
   ],
   "metadata": {
    "collapsed": false,
    "ExecuteTime": {
     "end_time": "2024-05-03T07:25:15.381830262Z",
     "start_time": "2024-05-03T07:25:15.317312039Z"
    }
   },
   "id": "c63b0719186b520e"
  },
  {
   "cell_type": "markdown",
   "source": [
    "To adjust the name of the additional columns, provide a list of column names by ``cols_info``:"
   ],
   "metadata": {
    "collapsed": false
   },
   "id": "11e7cc89b5449eff"
  },
  {
   "cell_type": "code",
   "execution_count": 4,
   "outputs": [
    {
     "data": {
      "text/plain": "<IPython.core.display.HTML object>",
      "text/html": "<style type=\"text/css\">\n#T_a7977 thead th {\n  background-color: white;\n  color: black;\n}\n#T_a7977 tbody tr:nth-child(odd) {\n  background-color: #f2f2f2;\n}\n#T_a7977 tbody tr:nth-child(even) {\n  background-color: white;\n}\n#T_a7977 th {\n  padding: 5px;\n  white-space: nowrap;\n}\n#T_a7977  td {\n  padding: 5px;\n  white-space: nowrap;\n}\n</style>\n<table id=\"T_a7977\" style='display:block; max-height: 300px; max-width: 100%; overflow-x: auto; overflow-y: auto;'>\n  <thead>\n    <tr>\n      <th class=\"blank level0\" >&nbsp;</th>\n      <th id=\"T_a7977_level0_col0\" class=\"col_heading level0 col0\" >entry</th>\n      <th id=\"T_a7977_level0_col1\" class=\"col_heading level0 col1\" >sequence</th>\n      <th id=\"T_a7977_level0_col2\" class=\"col_heading level0 col2\" >prediction</th>\n    </tr>\n  </thead>\n  <tbody>\n    <tr>\n      <th id=\"T_a7977_level0_row0\" class=\"row_heading level0 row0\" >1</th>\n      <td id=\"T_a7977_row0_col0\" class=\"data row0 col0\" >SEMA4A</td>\n      <td id=\"T_a7977_row0_col1\" class=\"data row0 col1\" >LAAQQSYWPHFVTVT...IILVASPLRALRARG</td>\n      <td id=\"T_a7977_row0_col2\" class=\"data row0 col2\" >38.4</td>\n    </tr>\n    <tr>\n      <th id=\"T_a7977_level0_row1\" class=\"row_heading level0 row1\" >2</th>\n      <td id=\"T_a7977_row1_col0\" class=\"data row1 col0\" >SEMA4B</td>\n      <td id=\"T_a7977_row1_col1\" class=\"data row1 col1\" >WGADRSYWKEFLVMC...LFLLYRHRNSMKVFL</td>\n      <td id=\"T_a7977_row1_col2\" class=\"data row1 col2\" >47.0</td>\n    </tr>\n    <tr>\n      <th id=\"T_a7977_level0_row2\" class=\"row_heading level0 row2\" >3</th>\n      <td id=\"T_a7977_row2_col0\" class=\"data row2 col0\" >SEMA4C</td>\n      <td id=\"T_a7977_row2_col1\" class=\"data row2 col1\" >EARAPLENLGLVWLA...LLLVLSLRRRLREEL</td>\n      <td id=\"T_a7977_row2_col2\" class=\"data row2 col2\" >86.6</td>\n    </tr>\n    <tr>\n      <th id=\"T_a7977_level0_row3\" class=\"row_heading level0 row3\" >4</th>\n      <td id=\"T_a7977_row3_col0\" class=\"data row3 col0\" >SEMA4D</td>\n      <td id=\"T_a7977_row3_col1\" class=\"data row3 col1\" >TMYLKSSDNRLLMSL...FFYNCYKGYLPRQCL</td>\n      <td id=\"T_a7977_row3_col2\" class=\"data row3 col2\" >19.1</td>\n    </tr>\n    <tr>\n      <th id=\"T_a7977_level0_row4\" class=\"row_heading level0 row4\" >5</th>\n      <td id=\"T_a7977_row4_col0\" class=\"data row4 col0\" >SEMA4F</td>\n      <td id=\"T_a7977_row4_col1\" class=\"data row4 col1\" >RDAPSRAHTVGAGLA...TLILIGRRQQRRRQR</td>\n      <td id=\"T_a7977_row4_col2\" class=\"data row4 col2\" >88.5</td>\n    </tr>\n    <tr>\n      <th id=\"T_a7977_level0_row5\" class=\"row_heading level0 row5\" >6</th>\n      <td id=\"T_a7977_row5_col0\" class=\"data row5 col0\" >SEMA4G</td>\n      <td id=\"T_a7977_row5_col1\" class=\"data row5 col1\" >GAQLAPDVRLLYVLA...ASSLLYVACLREGRR</td>\n      <td id=\"T_a7977_row5_col2\" class=\"data row5 col2\" >49.9</td>\n    </tr>\n    <tr>\n      <th id=\"T_a7977_level0_row6\" class=\"row_heading level0 row6\" >7</th>\n      <td id=\"T_a7977_row6_col0\" class=\"data row6 col0\" >SEMA5A</td>\n      <td id=\"T_a7977_row6_col1\" class=\"data row6 col1\" >EEKRCGEFNMFHMIA...LTLLVYTYCQRYQQQ</td>\n      <td id=\"T_a7977_row6_col2\" class=\"data row6 col2\" >28.1</td>\n    </tr>\n    <tr>\n      <th id=\"T_a7977_level0_row7\" class=\"row_heading level0 row7\" >8</th>\n      <td id=\"T_a7977_row7_col0\" class=\"data row7 col0\" >SEMA5B</td>\n      <td id=\"T_a7977_row7_col1\" class=\"data row7 col1\" >TDCAGFNLIHLVATG...LAVYLSCQHCQRQSQ</td>\n      <td id=\"T_a7977_row7_col2\" class=\"data row7 col2\" >30.0</td>\n    </tr>\n    <tr>\n      <th id=\"T_a7977_level0_row8\" class=\"row_heading level0 row8\" >9</th>\n      <td id=\"T_a7977_row8_col0\" class=\"data row8 col0\" >SEMA6A</td>\n      <td id=\"T_a7977_row8_col1\" class=\"data row8 col1\" >KGHDQLVPVTLLAIA...SGITVYCVCDHRRKD</td>\n      <td id=\"T_a7977_row8_col2\" class=\"data row8 col2\" >21.1</td>\n    </tr>\n    <tr>\n      <th id=\"T_a7977_level0_row9\" class=\"row_heading level0 row9\" >10</th>\n      <td id=\"T_a7977_row9_col0\" class=\"data row9 col0\" >SEMA6B</td>\n      <td id=\"T_a7977_row9_col1\" class=\"data row9 col1\" >VSVNLLVTSSVAAFV...WFVGLRERRELARRK</td>\n      <td id=\"T_a7977_row9_col2\" class=\"data row9 col2\" >80.0</td>\n    </tr>\n    <tr>\n      <th id=\"T_a7977_level0_row10\" class=\"row_heading level0 row10\" >11</th>\n      <td id=\"T_a7977_row10_col0\" class=\"data row10 col0\" >SEMA6C</td>\n      <td id=\"T_a7977_row10_col1\" class=\"data row10 col1\" >ASASRSVPIPLLLAS...SGLLVSCACRRAHRR</td>\n      <td id=\"T_a7977_row10_col2\" class=\"data row10 col2\" >46.8</td>\n    </tr>\n    <tr>\n      <th id=\"T_a7977_level0_row11\" class=\"row_heading level0 row11\" >12</th>\n      <td id=\"T_a7977_row11_col0\" class=\"data row11 col0\" >SEMA6D</td>\n      <td id=\"T_a7977_row11_col1\" class=\"data row11 col1\" >GESNQMVHMNVLITC...AGVAVYCYRDMFVRK</td>\n      <td id=\"T_a7977_row11_col2\" class=\"data row11 col2\" >37.7</td>\n    </tr>\n  </tbody>\n</table>\n"
     },
     "metadata": {},
     "output_type": "display_data"
    }
   ],
   "source": [
    "df_seq = aa.read_fasta(file_path, sep=\",\", cols_info=[\"prediction\"])\n",
    "aa.display_df(df_seq)"
   ],
   "metadata": {
    "collapsed": false,
    "ExecuteTime": {
     "end_time": "2024-05-03T07:25:15.383252834Z",
     "start_time": "2024-05-03T07:25:15.359168892Z"
    }
   },
   "id": "1850be103c278e65"
  },
  {
   "cell_type": "markdown",
   "source": [
    "The headers of FASTA files can start with a database abbreviation (e.g., 'sp' for Swiss-Prot). To properly convert these into a database column, provide a name to the ``col_db`` parameter:"
   ],
   "metadata": {
    "collapsed": false
   },
   "id": "97037f69fc5c0803"
  },
  {
   "cell_type": "code",
   "execution_count": 5,
   "outputs": [
    {
     "data": {
      "text/plain": "<IPython.core.display.HTML object>",
      "text/html": "<style type=\"text/css\">\n#T_b90b6 thead th {\n  background-color: white;\n  color: black;\n}\n#T_b90b6 tbody tr:nth-child(odd) {\n  background-color: #f2f2f2;\n}\n#T_b90b6 tbody tr:nth-child(even) {\n  background-color: white;\n}\n#T_b90b6 th {\n  padding: 5px;\n  white-space: nowrap;\n}\n#T_b90b6  td {\n  padding: 5px;\n  white-space: nowrap;\n}\n</style>\n<table id=\"T_b90b6\" style='display:block; max-height: 300px; max-width: 100%; overflow-x: auto; overflow-y: auto;'>\n  <thead>\n    <tr>\n      <th class=\"blank level0\" >&nbsp;</th>\n      <th id=\"T_b90b6_level0_col0\" class=\"col_heading level0 col0\" >entry</th>\n      <th id=\"T_b90b6_level0_col1\" class=\"col_heading level0 col1\" >sequence</th>\n      <th id=\"T_b90b6_level0_col2\" class=\"col_heading level0 col2\" >database</th>\n      <th id=\"T_b90b6_level0_col3\" class=\"col_heading level0 col3\" >info1</th>\n    </tr>\n  </thead>\n  <tbody>\n    <tr>\n      <th id=\"T_b90b6_level0_row0\" class=\"row_heading level0 row0\" >1</th>\n      <td id=\"T_b90b6_row0_col0\" class=\"data row0 col0\" >SEMA4A</td>\n      <td id=\"T_b90b6_row0_col1\" class=\"data row0 col1\" >LAAQQSYWPHFVTVT...IILVASPLRALRARG</td>\n      <td id=\"T_b90b6_row0_col2\" class=\"data row0 col2\" >sp</td>\n      <td id=\"T_b90b6_row0_col3\" class=\"data row0 col3\" >38.4</td>\n    </tr>\n    <tr>\n      <th id=\"T_b90b6_level0_row1\" class=\"row_heading level0 row1\" >2</th>\n      <td id=\"T_b90b6_row1_col0\" class=\"data row1 col0\" >SEMA4B</td>\n      <td id=\"T_b90b6_row1_col1\" class=\"data row1 col1\" >WGADRSYWKEFLVMC...LFLLYRHRNSMKVFL</td>\n      <td id=\"T_b90b6_row1_col2\" class=\"data row1 col2\" >sp</td>\n      <td id=\"T_b90b6_row1_col3\" class=\"data row1 col3\" >47.0</td>\n    </tr>\n    <tr>\n      <th id=\"T_b90b6_level0_row2\" class=\"row_heading level0 row2\" >3</th>\n      <td id=\"T_b90b6_row2_col0\" class=\"data row2 col0\" >SEMA4C</td>\n      <td id=\"T_b90b6_row2_col1\" class=\"data row2 col1\" >EARAPLENLGLVWLA...LLLVLSLRRRLREEL</td>\n      <td id=\"T_b90b6_row2_col2\" class=\"data row2 col2\" >sp</td>\n      <td id=\"T_b90b6_row2_col3\" class=\"data row2 col3\" >86.6</td>\n    </tr>\n    <tr>\n      <th id=\"T_b90b6_level0_row3\" class=\"row_heading level0 row3\" >4</th>\n      <td id=\"T_b90b6_row3_col0\" class=\"data row3 col0\" >SEMA4D</td>\n      <td id=\"T_b90b6_row3_col1\" class=\"data row3 col1\" >TMYLKSSDNRLLMSL...FFYNCYKGYLPRQCL</td>\n      <td id=\"T_b90b6_row3_col2\" class=\"data row3 col2\" >sp</td>\n      <td id=\"T_b90b6_row3_col3\" class=\"data row3 col3\" >19.1</td>\n    </tr>\n    <tr>\n      <th id=\"T_b90b6_level0_row4\" class=\"row_heading level0 row4\" >5</th>\n      <td id=\"T_b90b6_row4_col0\" class=\"data row4 col0\" >SEMA4F</td>\n      <td id=\"T_b90b6_row4_col1\" class=\"data row4 col1\" >RDAPSRAHTVGAGLA...TLILIGRRQQRRRQR</td>\n      <td id=\"T_b90b6_row4_col2\" class=\"data row4 col2\" >sp</td>\n      <td id=\"T_b90b6_row4_col3\" class=\"data row4 col3\" >88.5</td>\n    </tr>\n    <tr>\n      <th id=\"T_b90b6_level0_row5\" class=\"row_heading level0 row5\" >6</th>\n      <td id=\"T_b90b6_row5_col0\" class=\"data row5 col0\" >SEMA4G</td>\n      <td id=\"T_b90b6_row5_col1\" class=\"data row5 col1\" >GAQLAPDVRLLYVLA...ASSLLYVACLREGRR</td>\n      <td id=\"T_b90b6_row5_col2\" class=\"data row5 col2\" >sp</td>\n      <td id=\"T_b90b6_row5_col3\" class=\"data row5 col3\" >49.9</td>\n    </tr>\n    <tr>\n      <th id=\"T_b90b6_level0_row6\" class=\"row_heading level0 row6\" >7</th>\n      <td id=\"T_b90b6_row6_col0\" class=\"data row6 col0\" >SEMA5A</td>\n      <td id=\"T_b90b6_row6_col1\" class=\"data row6 col1\" >EEKRCGEFNMFHMIA...LTLLVYTYCQRYQQQ</td>\n      <td id=\"T_b90b6_row6_col2\" class=\"data row6 col2\" >sp</td>\n      <td id=\"T_b90b6_row6_col3\" class=\"data row6 col3\" >28.1</td>\n    </tr>\n    <tr>\n      <th id=\"T_b90b6_level0_row7\" class=\"row_heading level0 row7\" >8</th>\n      <td id=\"T_b90b6_row7_col0\" class=\"data row7 col0\" >SEMA5B</td>\n      <td id=\"T_b90b6_row7_col1\" class=\"data row7 col1\" >TDCAGFNLIHLVATG...LAVYLSCQHCQRQSQ</td>\n      <td id=\"T_b90b6_row7_col2\" class=\"data row7 col2\" >sp</td>\n      <td id=\"T_b90b6_row7_col3\" class=\"data row7 col3\" >30.0</td>\n    </tr>\n    <tr>\n      <th id=\"T_b90b6_level0_row8\" class=\"row_heading level0 row8\" >9</th>\n      <td id=\"T_b90b6_row8_col0\" class=\"data row8 col0\" >SEMA6A</td>\n      <td id=\"T_b90b6_row8_col1\" class=\"data row8 col1\" >KGHDQLVPVTLLAIA...SGITVYCVCDHRRKD</td>\n      <td id=\"T_b90b6_row8_col2\" class=\"data row8 col2\" >sp</td>\n      <td id=\"T_b90b6_row8_col3\" class=\"data row8 col3\" >21.1</td>\n    </tr>\n    <tr>\n      <th id=\"T_b90b6_level0_row9\" class=\"row_heading level0 row9\" >10</th>\n      <td id=\"T_b90b6_row9_col0\" class=\"data row9 col0\" >SEMA6B</td>\n      <td id=\"T_b90b6_row9_col1\" class=\"data row9 col1\" >VSVNLLVTSSVAAFV...WFVGLRERRELARRK</td>\n      <td id=\"T_b90b6_row9_col2\" class=\"data row9 col2\" >sp</td>\n      <td id=\"T_b90b6_row9_col3\" class=\"data row9 col3\" >80.0</td>\n    </tr>\n    <tr>\n      <th id=\"T_b90b6_level0_row10\" class=\"row_heading level0 row10\" >11</th>\n      <td id=\"T_b90b6_row10_col0\" class=\"data row10 col0\" >SEMA6C</td>\n      <td id=\"T_b90b6_row10_col1\" class=\"data row10 col1\" >ASASRSVPIPLLLAS...SGLLVSCACRRAHRR</td>\n      <td id=\"T_b90b6_row10_col2\" class=\"data row10 col2\" >sp</td>\n      <td id=\"T_b90b6_row10_col3\" class=\"data row10 col3\" >46.8</td>\n    </tr>\n    <tr>\n      <th id=\"T_b90b6_level0_row11\" class=\"row_heading level0 row11\" >12</th>\n      <td id=\"T_b90b6_row11_col0\" class=\"data row11 col0\" >SEMA6D</td>\n      <td id=\"T_b90b6_row11_col1\" class=\"data row11 col1\" >GESNQMVHMNVLITC...AGVAVYCYRDMFVRK</td>\n      <td id=\"T_b90b6_row11_col2\" class=\"data row11 col2\" >sp</td>\n      <td id=\"T_b90b6_row11_col3\" class=\"data row11 col3\" >37.7</td>\n    </tr>\n  </tbody>\n</table>\n"
     },
     "metadata": {},
     "output_type": "display_data"
    }
   ],
   "source": [
    "file_path = \"data/example_FASTA_db.fasta\"\n",
    "df_seq = aa.read_fasta(file_path, col_db=\"database\", sep=\",\")\n",
    "aa.display_df(df_seq)"
   ],
   "metadata": {
    "collapsed": false,
    "ExecuteTime": {
     "end_time": "2024-05-03T07:25:15.987027186Z",
     "start_time": "2024-05-03T07:25:15.977291894Z"
    }
   },
   "id": "47b9fc8f87c8d72f"
  }
 ],
 "metadata": {
  "kernelspec": {
   "display_name": "Python 3",
   "language": "python",
   "name": "python3"
  },
  "language_info": {
   "codemirror_mode": {
    "name": "ipython",
    "version": 2
   },
   "file_extension": ".py",
   "mimetype": "text/x-python",
   "name": "python",
   "nbconvert_exporter": "python",
   "pygments_lexer": "ipython2",
   "version": "2.7.6"
  }
 },
 "nbformat": 4,
 "nbformat_minor": 5
}
