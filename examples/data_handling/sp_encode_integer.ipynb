{
 "cells": [
  {
   "cell_type": "markdown",
   "source": [
    "You can integer encode protein sequences using the ``SequencePreprocessor().encode_integer()`` method. We first create an example sequence and the ``SequencePrepreprocessor()`` object as follows:"
   ],
   "metadata": {
    "collapsed": false
   },
   "id": "91e15230dad23b05"
  },
  {
   "cell_type": "code",
   "execution_count": null,
   "outputs": [],
   "source": [
    "import aaanalysis as aa\n",
    "\n",
    "seq = \"AACDEFGHII\"\n",
    "sp = aa.SequencePreprocessor()"
   ],
   "metadata": {
    "collapsed": false
   },
   "id": "6529c65f51e1c14f"
  }
 ],
 "metadata": {
  "kernelspec": {
   "display_name": "Python 3",
   "language": "python",
   "name": "python3"
  },
  "language_info": {
   "codemirror_mode": {
    "name": "ipython",
    "version": 2
   },
   "file_extension": ".py",
   "mimetype": "text/x-python",
   "name": "python",
   "nbconvert_exporter": "python",
   "pygments_lexer": "ipython2",
   "version": "2.7.6"
  }
 },
 "nbformat": 4,
 "nbformat_minor": 5
}
