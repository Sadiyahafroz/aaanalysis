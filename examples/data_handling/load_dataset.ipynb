{
 "cells": [
  {
   "cell_type": "markdown",
   "source": [
    "An overview dataset table is provided as default, where the suffix in the 'Dataset' ('AA', 'SEQ', and 'DOM') column corresponds to the 'Level' values ('Amino acid', 'Sequence', and 'Domain' level). Load datasets using the ``load_dataset()`` function:"
   ],
   "metadata": {
    "collapsed": false
   },
   "id": "d64f6a126f1e115d"
  },
  {
   "cell_type": "code",
   "execution_count": null,
   "outputs": [],
   "source": [
    "import aaanalysis as aa\n",
    "df_info = aa.load_dataset()\n",
    "aa.display_df(df=df_info, show_shape=True, max_height=600)"
   ],
   "metadata": {
    "collapsed": false,
    "is_executing": true
   },
   "id": "initial_id"
  },
  {
   "cell_type": "markdown",
   "source": [
    "Load one of the datasets from the overview table by using a name from the 'Dataset' column (e.g., ``name='SEQ_CAPSID'``). The number of proteins per class can be adjusted by the ``n`` parameter:"
   ],
   "metadata": {
    "collapsed": false
   },
   "id": "c8cf5ba416584c24"
  },
  {
   "cell_type": "code",
   "execution_count": 2,
   "outputs": [
    {
     "data": {
      "text/plain": "<IPython.core.display.HTML object>",
      "text/html": "<style type=\"text/css\">\n#T_95674 thead th {\n  background-color: white;\n  color: black;\n}\n#T_95674 tbody tr:nth-child(odd) {\n  background-color: #f2f2f2;\n}\n#T_95674 tbody tr:nth-child(even) {\n  background-color: white;\n}\n#T_95674 th {\n  padding: 5px;\n  white-space: nowrap;\n}\n#T_95674  td {\n  padding: 5px;\n  white-space: nowrap;\n}\n</style>\n<table id=\"T_95674\" style='display:block; max-height: 300px; max-width: 100%; overflow-x: auto; overflow-y: auto;'>\n  <thead>\n    <tr>\n      <th class=\"blank level0\" >&nbsp;</th>\n      <th id=\"T_95674_level0_col0\" class=\"col_heading level0 col0\" >entry</th>\n      <th id=\"T_95674_level0_col1\" class=\"col_heading level0 col1\" >sequence</th>\n      <th id=\"T_95674_level0_col2\" class=\"col_heading level0 col2\" >label</th>\n    </tr>\n  </thead>\n  <tbody>\n    <tr>\n      <th id=\"T_95674_level0_row0\" class=\"row_heading level0 row0\" >1</th>\n      <td id=\"T_95674_row0_col0\" class=\"data row0 col0\" >CAPSID_1</td>\n      <td id=\"T_95674_row0_col1\" class=\"data row0 col1\" >MVTHNVKINKHVTRR...DTPRIPATKLDEENV</td>\n      <td id=\"T_95674_row0_col2\" class=\"data row0 col2\" >0</td>\n    </tr>\n    <tr>\n      <th id=\"T_95674_level0_row1\" class=\"row_heading level0 row1\" >2</th>\n      <td id=\"T_95674_row1_col0\" class=\"data row1 col0\" >CAPSID_2</td>\n      <td id=\"T_95674_row1_col1\" class=\"data row1 col1\" >MKKRQKKMTLSNFTD...AMLEAVINARHFGEE</td>\n      <td id=\"T_95674_row1_col2\" class=\"data row1 col2\" >0</td>\n    </tr>\n    <tr>\n      <th id=\"T_95674_level0_row2\" class=\"row_heading level0 row2\" >3</th>\n      <td id=\"T_95674_row2_col0\" class=\"data row2 col0\" >CAPSID_4072</td>\n      <td id=\"T_95674_row2_col1\" class=\"data row2 col1\" >MALTTNDVITEDFVR...AWKAIFPEAAVKVDA</td>\n      <td id=\"T_95674_row2_col2\" class=\"data row2 col2\" >1</td>\n    </tr>\n    <tr>\n      <th id=\"T_95674_level0_row3\" class=\"row_heading level0 row3\" >4</th>\n      <td id=\"T_95674_row3_col0\" class=\"data row3 col0\" >CAPSID_4073</td>\n      <td id=\"T_95674_row3_col1\" class=\"data row3 col1\" >MGELTDNGVQLAKAQ...TCTNPAAHAKIRDLK</td>\n      <td id=\"T_95674_row3_col2\" class=\"data row3 col2\" >1</td>\n    </tr>\n  </tbody>\n</table>\n"
     },
     "metadata": {},
     "output_type": "display_data"
    }
   ],
   "source": [
    "df_seq = aa.load_dataset(name=\"SEQ_CAPSID\", n=2)\n",
    "aa.display_df(df=df_seq)"
   ],
   "metadata": {
    "collapsed": false,
    "ExecuteTime": {
     "end_time": "2024-01-09T15:14:13.957536725Z",
     "start_time": "2024-01-09T15:14:13.663770176Z"
    }
   },
   "id": "29441ff404197ad8"
  },
  {
   "cell_type": "markdown",
   "source": [
    "The sampling can be performed randomly by setting ``random=True``: "
   ],
   "metadata": {
    "collapsed": false
   },
   "id": "4a1a9e5a2592113c"
  },
  {
   "cell_type": "code",
   "execution_count": 3,
   "outputs": [
    {
     "data": {
      "text/plain": "<IPython.core.display.HTML object>",
      "text/html": "<style type=\"text/css\">\n#T_1d156 thead th {\n  background-color: white;\n  color: black;\n}\n#T_1d156 tbody tr:nth-child(odd) {\n  background-color: #f2f2f2;\n}\n#T_1d156 tbody tr:nth-child(even) {\n  background-color: white;\n}\n#T_1d156 th {\n  padding: 5px;\n  white-space: nowrap;\n}\n#T_1d156  td {\n  padding: 5px;\n  white-space: nowrap;\n}\n</style>\n<table id=\"T_1d156\" style='display:block; max-height: 300px; max-width: 100%; overflow-x: auto; overflow-y: auto;'>\n  <thead>\n    <tr>\n      <th class=\"blank level0\" >&nbsp;</th>\n      <th id=\"T_1d156_level0_col0\" class=\"col_heading level0 col0\" >entry</th>\n      <th id=\"T_1d156_level0_col1\" class=\"col_heading level0 col1\" >sequence</th>\n      <th id=\"T_1d156_level0_col2\" class=\"col_heading level0 col2\" >label</th>\n    </tr>\n  </thead>\n  <tbody>\n    <tr>\n      <th id=\"T_1d156_level0_row0\" class=\"row_heading level0 row0\" >1</th>\n      <td id=\"T_1d156_row0_col0\" class=\"data row0 col0\" >CAPSID_1413</td>\n      <td id=\"T_1d156_row0_col1\" class=\"data row0 col1\" >MKKKSLALVLATGMA...EVNAVKQSFSAVGIN</td>\n      <td id=\"T_1d156_row0_col2\" class=\"data row0 col2\" >0</td>\n    </tr>\n    <tr>\n      <th id=\"T_1d156_level0_row1\" class=\"row_heading level0 row1\" >2</th>\n      <td id=\"T_1d156_row1_col0\" class=\"data row1 col0\" >CAPSID_2074</td>\n      <td id=\"T_1d156_row1_col1\" class=\"data row1 col1\" >MKITTFLRDLFGSKD...KNYQGINEIDSKGGD</td>\n      <td id=\"T_1d156_row1_col2\" class=\"data row1 col2\" >0</td>\n    </tr>\n    <tr>\n      <th id=\"T_1d156_level0_row2\" class=\"row_heading level0 row2\" >3</th>\n      <td id=\"T_1d156_row2_col0\" class=\"data row2 col0\" >CAPSID_4145</td>\n      <td id=\"T_1d156_row2_col1\" class=\"data row2 col1\" >MATLNELAPNTAGSN...KQAFIKFVDDEDPEA</td>\n      <td id=\"T_1d156_row2_col2\" class=\"data row2 col2\" >1</td>\n    </tr>\n    <tr>\n      <th id=\"T_1d156_level0_row3\" class=\"row_heading level0 row3\" >4</th>\n      <td id=\"T_1d156_row3_col0\" class=\"data row3 col0\" >CAPSID_6885</td>\n      <td id=\"T_1d156_row3_col1\" class=\"data row3 col1\" >MGLFTTRQLLGYTEQ...MVLPDPDEFVVVQVK</td>\n      <td id=\"T_1d156_row3_col2\" class=\"data row3 col2\" >1</td>\n    </tr>\n  </tbody>\n</table>\n"
     },
     "metadata": {},
     "output_type": "display_data"
    }
   ],
   "source": [
    "df_seq = aa.load_dataset(name=\"SEQ_CAPSID\", n=2, random=True)\n",
    "aa.display_df(df=df_seq)"
   ],
   "metadata": {
    "collapsed": false,
    "ExecuteTime": {
     "end_time": "2024-01-09T15:14:14.259173194Z",
     "start_time": "2024-01-09T15:14:13.973065537Z"
    }
   },
   "id": "117de37987631b8d"
  },
  {
   "cell_type": "markdown",
   "source": [
    "Sequences with non-canonical amino acids are by default removed, which can be disabled by setting ``non_canonical_aa='keep'`` or ``non_canonical_aa='gap'``: "
   ],
   "metadata": {
    "collapsed": false
   },
   "id": "6967245ac7a62253"
  },
  {
   "cell_type": "code",
   "execution_count": 4,
   "outputs": [
    {
     "name": "stdout",
     "output_type": "stream",
     "text": [
      "'SEQ_DISULFIDE' contain 2547 proteins and 2202 after filtering.\n"
     ]
    }
   ],
   "source": [
    "n_unfiltered = len(aa.load_dataset(name='SEQ_DISULFIDE', non_canonical_aa=\"keep\"))\n",
    "n = len(aa.load_dataset(name='SEQ_DISULFIDE'))\n",
    "print(f\"'SEQ_DISULFIDE' contain {n_unfiltered} proteins and {n} after filtering.\")    "
   ],
   "metadata": {
    "collapsed": false,
    "ExecuteTime": {
     "end_time": "2024-01-09T15:14:17.607342419Z",
     "start_time": "2024-01-09T15:14:17.512322617Z"
    }
   },
   "id": "9e706ce1a55dc432"
  },
  {
   "cell_type": "markdown",
   "source": [
    "Datasets can be filtered for the minimum and maximum sequence length using ``min_len`` and ``max_len``:"
   ],
   "metadata": {
    "collapsed": false
   },
   "id": "233639c1f00a80b5"
  },
  {
   "cell_type": "code",
   "execution_count": 5,
   "outputs": [
    {
     "name": "stdout",
     "output_type": "stream",
     "text": [
      "'SEQ_DISULFIDE' contain 2547 proteins, of which 644 have a length between 100 and 200 residues.\n"
     ]
    }
   ],
   "source": [
    "n_len_filtered = len(aa.load_dataset(name='SEQ_DISULFIDE', min_len=100, max_len=200))\n",
    "print(f\"'SEQ_DISULFIDE' contain {n_unfiltered} proteins, of which {n_len_filtered} have a length between 100 and 200 residues.\")   \n"
   ],
   "metadata": {
    "collapsed": false,
    "ExecuteTime": {
     "end_time": "2024-01-09T15:14:32.026445276Z",
     "start_time": "2024-01-09T15:14:31.993800908Z"
    }
   },
   "id": "c509510217042c3e"
  },
  {
   "cell_type": "markdown",
   "source": [
    "For the 'Amino acid level' datasets, the size of the amino acid window can be adjusted using the ``aa_window_size`` parameter:"
   ],
   "metadata": {
    "collapsed": false
   },
   "id": "ff705f6c6c7332be"
  },
  {
   "cell_type": "code",
   "execution_count": 6,
   "outputs": [
    {
     "data": {
      "text/plain": "<IPython.core.display.HTML object>",
      "text/html": "<style type=\"text/css\">\n#T_f4078 thead th {\n  background-color: white;\n  color: black;\n}\n#T_f4078 tbody tr:nth-child(odd) {\n  background-color: #f2f2f2;\n}\n#T_f4078 tbody tr:nth-child(even) {\n  background-color: white;\n}\n#T_f4078 th {\n  padding: 5px;\n  white-space: nowrap;\n}\n#T_f4078  td {\n  padding: 5px;\n  white-space: nowrap;\n}\n</style>\n<table id=\"T_f4078\" style='display:block; max-height: 300px; max-width: 100%; overflow-x: auto; overflow-y: auto;'>\n  <thead>\n    <tr>\n      <th class=\"blank level0\" >&nbsp;</th>\n      <th id=\"T_f4078_level0_col0\" class=\"col_heading level0 col0\" >entry</th>\n      <th id=\"T_f4078_level0_col1\" class=\"col_heading level0 col1\" >sequence</th>\n      <th id=\"T_f4078_level0_col2\" class=\"col_heading level0 col2\" >label</th>\n    </tr>\n  </thead>\n  <tbody>\n    <tr>\n      <th id=\"T_f4078_level0_row0\" class=\"row_heading level0 row0\" >1</th>\n      <td id=\"T_f4078_row0_col0\" class=\"data row0 col0\" >CASPASE3_1_pos2</td>\n      <td id=\"T_f4078_row0_col1\" class=\"data row0 col1\" >MSLFD</td>\n      <td id=\"T_f4078_row0_col2\" class=\"data row0 col2\" >0</td>\n    </tr>\n    <tr>\n      <th id=\"T_f4078_level0_row1\" class=\"row_heading level0 row1\" >2</th>\n      <td id=\"T_f4078_row1_col0\" class=\"data row1 col0\" >CASPASE3_1_pos3</td>\n      <td id=\"T_f4078_row1_col1\" class=\"data row1 col1\" >SLFDL</td>\n      <td id=\"T_f4078_row1_col2\" class=\"data row1 col2\" >0</td>\n    </tr>\n    <tr>\n      <th id=\"T_f4078_level0_row2\" class=\"row_heading level0 row2\" >3</th>\n      <td id=\"T_f4078_row2_col0\" class=\"data row2 col0\" >CASPASE3_1_pos126</td>\n      <td id=\"T_f4078_row2_col1\" class=\"data row2 col1\" >LRDSM</td>\n      <td id=\"T_f4078_row2_col2\" class=\"data row2 col2\" >1</td>\n    </tr>\n    <tr>\n      <th id=\"T_f4078_level0_row3\" class=\"row_heading level0 row3\" >4</th>\n      <td id=\"T_f4078_row3_col0\" class=\"data row3 col0\" >CASPASE3_1_pos127</td>\n      <td id=\"T_f4078_row3_col1\" class=\"data row3 col1\" >RDSML</td>\n      <td id=\"T_f4078_row3_col2\" class=\"data row3 col2\" >1</td>\n    </tr>\n  </tbody>\n</table>\n"
     },
     "metadata": {},
     "output_type": "display_data"
    }
   ],
   "source": [
    "df_aa = aa.load_dataset(name=\"AA_CASPASE3\", n=2, aa_window_size=5)\n",
    "aa.display_df(df=df_aa)"
   ],
   "metadata": {
    "collapsed": false,
    "ExecuteTime": {
     "end_time": "2024-01-09T15:14:33.353870444Z",
     "start_time": "2024-01-09T15:14:32.712384644Z"
    }
   },
   "id": "9429cb6eb0a0e028"
  },
  {
   "cell_type": "markdown",
   "source": [
    "For Positive-Unlabeled (PU) learning, datasets are provided containing only positive (labeled by '1') and unlabeled data ('2'), indicated by a 'PU' suffix in the 'Dataset' column name:"
   ],
   "metadata": {
    "collapsed": false
   },
   "id": "fc40fc211c4d5dfe"
  },
  {
   "cell_type": "code",
   "execution_count": 7,
   "outputs": [
    {
     "data": {
      "text/plain": "<IPython.core.display.HTML object>",
      "text/html": "<style type=\"text/css\">\n#T_747c2 thead th {\n  background-color: white;\n  color: black;\n}\n#T_747c2 tbody tr:nth-child(odd) {\n  background-color: #f2f2f2;\n}\n#T_747c2 tbody tr:nth-child(even) {\n  background-color: white;\n}\n#T_747c2 th {\n  padding: 5px;\n  white-space: nowrap;\n}\n#T_747c2  td {\n  padding: 5px;\n  white-space: nowrap;\n}\n</style>\n<table id=\"T_747c2\" style='display:block; max-height: 300px; max-width: 100%; overflow-x: auto; overflow-y: auto;'>\n  <thead>\n    <tr>\n      <th class=\"blank level0\" >&nbsp;</th>\n      <th id=\"T_747c2_level0_col0\" class=\"col_heading level0 col0\" >entry</th>\n      <th id=\"T_747c2_level0_col1\" class=\"col_heading level0 col1\" >sequence</th>\n      <th id=\"T_747c2_level0_col2\" class=\"col_heading level0 col2\" >label</th>\n      <th id=\"T_747c2_level0_col3\" class=\"col_heading level0 col3\" >tmd_start</th>\n      <th id=\"T_747c2_level0_col4\" class=\"col_heading level0 col4\" >tmd_stop</th>\n      <th id=\"T_747c2_level0_col5\" class=\"col_heading level0 col5\" >jmd_n</th>\n      <th id=\"T_747c2_level0_col6\" class=\"col_heading level0 col6\" >tmd</th>\n      <th id=\"T_747c2_level0_col7\" class=\"col_heading level0 col7\" >jmd_c</th>\n    </tr>\n  </thead>\n  <tbody>\n    <tr>\n      <th id=\"T_747c2_level0_row0\" class=\"row_heading level0 row0\" >1</th>\n      <td id=\"T_747c2_row0_col0\" class=\"data row0 col0\" >P05067</td>\n      <td id=\"T_747c2_row0_col1\" class=\"data row0 col1\" >MLPGLALLLLAAWTA...GYENPTYKFFEQMQN</td>\n      <td id=\"T_747c2_row0_col2\" class=\"data row0 col2\" >1</td>\n      <td id=\"T_747c2_row0_col3\" class=\"data row0 col3\" >701</td>\n      <td id=\"T_747c2_row0_col4\" class=\"data row0 col4\" >723</td>\n      <td id=\"T_747c2_row0_col5\" class=\"data row0 col5\" >FAEDVGSNKG</td>\n      <td id=\"T_747c2_row0_col6\" class=\"data row0 col6\" >AIIGLMVGGVVIATVIVITLVML</td>\n      <td id=\"T_747c2_row0_col7\" class=\"data row0 col7\" >KKKQYTSIHH</td>\n    </tr>\n    <tr>\n      <th id=\"T_747c2_level0_row1\" class=\"row_heading level0 row1\" >2</th>\n      <td id=\"T_747c2_row1_col0\" class=\"data row1 col0\" >P14925</td>\n      <td id=\"T_747c2_row1_col1\" class=\"data row1 col1\" >MAGRARSGLLLLLLG...EEEYSAPLPKPAPSS</td>\n      <td id=\"T_747c2_row1_col2\" class=\"data row1 col2\" >1</td>\n      <td id=\"T_747c2_row1_col3\" class=\"data row1 col3\" >868</td>\n      <td id=\"T_747c2_row1_col4\" class=\"data row1 col4\" >890</td>\n      <td id=\"T_747c2_row1_col5\" class=\"data row1 col5\" >KLSTEPGSGV</td>\n      <td id=\"T_747c2_row1_col6\" class=\"data row1 col6\" >SVVLITTLLVIPVLVLLAIVMFI</td>\n      <td id=\"T_747c2_row1_col7\" class=\"data row1 col7\" >RWKKSRAFGD</td>\n    </tr>\n    <tr>\n      <th id=\"T_747c2_level0_row2\" class=\"row_heading level0 row2\" >3</th>\n      <td id=\"T_747c2_row2_col0\" class=\"data row2 col0\" >P70180</td>\n      <td id=\"T_747c2_row2_col1\" class=\"data row2 col1\" >MRSLLLFTFSACVLL...RELREDSIRSHFSVA</td>\n      <td id=\"T_747c2_row2_col2\" class=\"data row2 col2\" >1</td>\n      <td id=\"T_747c2_row2_col3\" class=\"data row2 col3\" >477</td>\n      <td id=\"T_747c2_row2_col4\" class=\"data row2 col4\" >499</td>\n      <td id=\"T_747c2_row2_col5\" class=\"data row2 col5\" >PCKSSGGLEE</td>\n      <td id=\"T_747c2_row2_col6\" class=\"data row2 col6\" >SAVTGIVVGALLGAGLLMAFYFF</td>\n      <td id=\"T_747c2_row2_col7\" class=\"data row2 col7\" >RKKYRITIER</td>\n    </tr>\n    <tr>\n      <th id=\"T_747c2_level0_row3\" class=\"row_heading level0 row3\" >4</th>\n      <td id=\"T_747c2_row3_col0\" class=\"data row3 col0\" >P12821</td>\n      <td id=\"T_747c2_row3_col1\" class=\"data row3 col1\" >MGAASGRRGPGLLLP...SHGPQFGSEVELRHS</td>\n      <td id=\"T_747c2_row3_col2\" class=\"data row3 col2\" >2</td>\n      <td id=\"T_747c2_row3_col3\" class=\"data row3 col3\" >1257</td>\n      <td id=\"T_747c2_row3_col4\" class=\"data row3 col4\" >1276</td>\n      <td id=\"T_747c2_row3_col5\" class=\"data row3 col5\" >GLDLDAQQAR</td>\n      <td id=\"T_747c2_row3_col6\" class=\"data row3 col6\" >VGQWLLLFLGIALLVATLGL</td>\n      <td id=\"T_747c2_row3_col7\" class=\"data row3 col7\" >SQRLFSIRHR</td>\n    </tr>\n    <tr>\n      <th id=\"T_747c2_level0_row4\" class=\"row_heading level0 row4\" >5</th>\n      <td id=\"T_747c2_row4_col0\" class=\"data row4 col0\" >P36896</td>\n      <td id=\"T_747c2_row4_col1\" class=\"data row4 col1\" >MAESAGASSFFPLVV...KKTLSQLSVQEDVKI</td>\n      <td id=\"T_747c2_row4_col2\" class=\"data row4 col2\" >2</td>\n      <td id=\"T_747c2_row4_col3\" class=\"data row4 col3\" >127</td>\n      <td id=\"T_747c2_row4_col4\" class=\"data row4 col4\" >149</td>\n      <td id=\"T_747c2_row4_col5\" class=\"data row4 col5\" >EHPSMWGPVE</td>\n      <td id=\"T_747c2_row4_col6\" class=\"data row4 col6\" >LVGIIAGPVFLLFLIIIIVFLVI</td>\n      <td id=\"T_747c2_row4_col7\" class=\"data row4 col7\" >NYHQRVYHNR</td>\n    </tr>\n    <tr>\n      <th id=\"T_747c2_level0_row5\" class=\"row_heading level0 row5\" >6</th>\n      <td id=\"T_747c2_row5_col0\" class=\"data row5 col0\" >Q8NER5</td>\n      <td id=\"T_747c2_row5_col1\" class=\"data row5 col1\" >MTRALCSALRQALLL...KKTISQLCVKEDCKA</td>\n      <td id=\"T_747c2_row5_col2\" class=\"data row5 col2\" >2</td>\n      <td id=\"T_747c2_row5_col3\" class=\"data row5 col3\" >114</td>\n      <td id=\"T_747c2_row5_col4\" class=\"data row5 col4\" >136</td>\n      <td id=\"T_747c2_row5_col5\" class=\"data row5 col5\" >PNAPKLGPME</td>\n      <td id=\"T_747c2_row5_col6\" class=\"data row5 col6\" >LAIIITVPVCLLSIAAMLTVWAC</td>\n      <td id=\"T_747c2_row5_col7\" class=\"data row5 col7\" >QGRQCSYRKK</td>\n    </tr>\n  </tbody>\n</table>\n"
     },
     "metadata": {},
     "output_type": "display_data"
    }
   ],
   "source": [
    "df_seq = aa.load_dataset(name=\"DOM_GSEC_PU\", n=3)\n",
    "aa.display_df(df=df_seq)"
   ],
   "metadata": {
    "collapsed": false,
    "ExecuteTime": {
     "end_time": "2024-01-09T15:14:33.617644451Z",
     "start_time": "2024-01-09T15:14:33.528655095Z"
    }
   },
   "id": "6af074b2cefe5480"
  }
 ],
 "metadata": {
  "kernelspec": {
   "display_name": "Python 3",
   "language": "python",
   "name": "python3"
  },
  "language_info": {
   "codemirror_mode": {
    "name": "ipython",
    "version": 2
   },
   "file_extension": ".py",
   "mimetype": "text/x-python",
   "name": "python",
   "nbconvert_exporter": "python",
   "pygments_lexer": "ipython2",
   "version": "2.7.6"
  }
 },
 "nbformat": 4,
 "nbformat_minor": 5
}
