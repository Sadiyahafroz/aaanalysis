{
 "cells": [
  {
   "cell_type": "markdown",
   "source": [
    "To demonstrate the ``TreeModel().eval()``method, we obtain the ``DOM_GSEC`` example dataset and its respective feature set (see [Breimann25a]_):"
   ],
   "metadata": {
    "collapsed": false
   },
   "id": "e462948a88c24701"
  },
  {
   "cell_type": "code",
   "execution_count": 8,
   "outputs": [],
   "source": [
    "import aaanalysis as aa\n",
    "aa.options[\"verbose\"] = False # Disable verbosity\n",
    "\n",
    "df_seq = aa.load_dataset(name=\"DOM_GSEC\")\n",
    "labels = df_seq[\"label\"].to_list()\n",
    "df_feat = aa.load_features(name=\"DOM_GSEC\").head(100)\n",
    "\n",
    "# Create feature matrix\n",
    "sf = aa.SequenceFeature()\n",
    "df_parts = sf.get_df_parts(df_seq=df_seq)\n",
    "X = sf.feature_matrix(features=df_feat[\"feature\"], df_parts=df_parts)"
   ],
   "metadata": {
    "collapsed": false,
    "ExecuteTime": {
     "end_time": "2024-01-14T16:14:01.246259863Z",
     "start_time": "2024-01-14T16:14:00.670147540Z"
    }
   },
   "id": "52c1fba0507d7311"
  },
  {
   "cell_type": "markdown",
   "source": [
    "We can now create two feature selections using the ``is_preselected`` parameter of the ``TreeModel`` class and its ``.fit()`` method:"
   ],
   "metadata": {
    "collapsed": false
   },
   "id": "97d4e18360e3e538"
  },
  {
   "cell_type": "code",
   "execution_count": 9,
   "outputs": [],
   "source": [
    "import numpy as np\n",
    "\n",
    "tm = aa.TreeModel()\n",
    "is_selected = tm.fit(X=X, labels=labels).is_selected_\n",
    "\n",
    "# Pre-selected from top 20\n",
    "is_preselected_top20 = np.asarray(df_feat.index < 20)\n",
    "tm = aa.TreeModel(is_preselected=is_preselected_top20)\n",
    "is_selected_top20 = tm.fit(X=X, labels=labels).is_selected_"
   ],
   "metadata": {
    "collapsed": false,
    "ExecuteTime": {
     "end_time": "2024-01-14T16:20:55.463433007Z",
     "start_time": "2024-01-14T16:14:01.483410830Z"
    }
   },
   "id": "33c3e6ba39dbd517"
  },
  {
   "cell_type": "markdown",
   "source": [
    "To evaluate different feature selections, provide ``X``, ``labels``, and the feature selection in terms of boolean 2D arrays using the ``list_is_selected`` parameters:"
   ],
   "metadata": {
    "collapsed": false
   },
   "id": "cbfeea35db2fe6e5"
  },
  {
   "cell_type": "code",
   "execution_count": 10,
   "outputs": [
    {
     "data": {
      "text/plain": "<IPython.core.display.HTML object>",
      "text/html": "<style type=\"text/css\">\n#T_9871e thead th {\n  background-color: white;\n  color: black;\n}\n#T_9871e tbody tr:nth-child(odd) {\n  background-color: #f2f2f2;\n}\n#T_9871e tbody tr:nth-child(even) {\n  background-color: white;\n}\n#T_9871e th {\n  padding: 5px;\n  white-space: nowrap;\n}\n#T_9871e  td {\n  padding: 5px;\n  white-space: nowrap;\n}\n</style>\n<table id=\"T_9871e\" style='display:block; max-height: 300px; max-width: 100%; overflow-x: auto; overflow-y: auto;'>\n  <thead>\n    <tr>\n      <th class=\"blank level0\" >&nbsp;</th>\n      <th id=\"T_9871e_level0_col0\" class=\"col_heading level0 col0\" >name</th>\n      <th id=\"T_9871e_level0_col1\" class=\"col_heading level0 col1\" >accuracy</th>\n      <th id=\"T_9871e_level0_col2\" class=\"col_heading level0 col2\" >balanced_accuracy</th>\n      <th id=\"T_9871e_level0_col3\" class=\"col_heading level0 col3\" >precision</th>\n      <th id=\"T_9871e_level0_col4\" class=\"col_heading level0 col4\" >roc_auc</th>\n    </tr>\n  </thead>\n  <tbody>\n    <tr>\n      <th id=\"T_9871e_level0_row0\" class=\"row_heading level0 row0\" >1</th>\n      <td id=\"T_9871e_row0_col0\" class=\"data row0 col0\" >Set 1</td>\n      <td id=\"T_9871e_row0_col1\" class=\"data row0 col1\" >0.835100</td>\n      <td id=\"T_9871e_row0_col2\" class=\"data row0 col2\" >0.835900</td>\n      <td id=\"T_9871e_row0_col3\" class=\"data row0 col3\" >0.839400</td>\n      <td id=\"T_9871e_row0_col4\" class=\"data row0 col4\" >0.949600</td>\n    </tr>\n    <tr>\n      <th id=\"T_9871e_level0_row1\" class=\"row_heading level0 row1\" >2</th>\n      <td id=\"T_9871e_row1_col0\" class=\"data row1 col0\" >Set 2</td>\n      <td id=\"T_9871e_row1_col1\" class=\"data row1 col1\" >0.812300</td>\n      <td id=\"T_9871e_row1_col2\" class=\"data row1 col2\" >0.807800</td>\n      <td id=\"T_9871e_row1_col3\" class=\"data row1 col3\" >0.824300</td>\n      <td id=\"T_9871e_row1_col4\" class=\"data row1 col4\" >0.907900</td>\n    </tr>\n  </tbody>\n</table>\n"
     },
     "metadata": {},
     "output_type": "display_data"
    }
   ],
   "source": [
    "list_is_selected = [is_selected, is_selected_top20]\n",
    "df_eval = tm.eval(X, labels=labels, list_is_selected=list_is_selected)\n",
    "aa.display_df(df_eval)"
   ],
   "metadata": {
    "collapsed": false,
    "ExecuteTime": {
     "end_time": "2024-01-14T16:22:58.001448170Z",
     "start_time": "2024-01-14T16:20:55.503623179Z"
    }
   },
   "id": "e87c3bd3b3391add"
  },
  {
   "cell_type": "markdown",
   "source": [
    "You can also use 1D boolean masks by setting ``convert_1d_to_2d=True``. To demonstrate this we create three different boolean masks based on different scale categories:"
   ],
   "metadata": {
    "collapsed": false
   },
   "id": "399308ef421efc65"
  },
  {
   "cell_type": "code",
   "execution_count": 11,
   "outputs": [
    {
     "data": {
      "text/plain": "<IPython.core.display.HTML object>",
      "text/html": "<style type=\"text/css\">\n#T_39f0e thead th {\n  background-color: white;\n  color: black;\n}\n#T_39f0e tbody tr:nth-child(odd) {\n  background-color: #f2f2f2;\n}\n#T_39f0e tbody tr:nth-child(even) {\n  background-color: white;\n}\n#T_39f0e th {\n  padding: 5px;\n  white-space: nowrap;\n}\n#T_39f0e  td {\n  padding: 5px;\n  white-space: nowrap;\n}\n</style>\n<table id=\"T_39f0e\" style='display:block; max-height: 300px; max-width: 100%; overflow-x: auto; overflow-y: auto;'>\n  <thead>\n    <tr>\n      <th class=\"blank level0\" >&nbsp;</th>\n      <th id=\"T_39f0e_level0_col0\" class=\"col_heading level0 col0\" >name</th>\n      <th id=\"T_39f0e_level0_col1\" class=\"col_heading level0 col1\" >accuracy</th>\n      <th id=\"T_39f0e_level0_col2\" class=\"col_heading level0 col2\" >balanced_accuracy</th>\n      <th id=\"T_39f0e_level0_col3\" class=\"col_heading level0 col3\" >precision</th>\n      <th id=\"T_39f0e_level0_col4\" class=\"col_heading level0 col4\" >roc_auc</th>\n    </tr>\n  </thead>\n  <tbody>\n    <tr>\n      <th id=\"T_39f0e_level0_row0\" class=\"row_heading level0 row0\" >1</th>\n      <td id=\"T_39f0e_row0_col0\" class=\"data row0 col0\" >Set 1</td>\n      <td id=\"T_39f0e_row0_col1\" class=\"data row0 col1\" >0.794300</td>\n      <td id=\"T_39f0e_row0_col2\" class=\"data row0 col2\" >0.803000</td>\n      <td id=\"T_39f0e_row0_col3\" class=\"data row0 col3\" >0.807800</td>\n      <td id=\"T_39f0e_row0_col4\" class=\"data row0 col4\" >0.872300</td>\n    </tr>\n    <tr>\n      <th id=\"T_39f0e_level0_row1\" class=\"row_heading level0 row1\" >2</th>\n      <td id=\"T_39f0e_row1_col0\" class=\"data row1 col0\" >Set 2</td>\n      <td id=\"T_39f0e_row1_col1\" class=\"data row1 col1\" >0.826400</td>\n      <td id=\"T_39f0e_row1_col2\" class=\"data row1 col2\" >0.825000</td>\n      <td id=\"T_39f0e_row1_col3\" class=\"data row1 col3\" >0.814200</td>\n      <td id=\"T_39f0e_row1_col4\" class=\"data row1 col4\" >0.943100</td>\n    </tr>\n    <tr>\n      <th id=\"T_39f0e_level0_row2\" class=\"row_heading level0 row2\" >3</th>\n      <td id=\"T_39f0e_row2_col0\" class=\"data row2 col0\" >Set 3</td>\n      <td id=\"T_39f0e_row2_col1\" class=\"data row2 col1\" >0.825500</td>\n      <td id=\"T_39f0e_row2_col2\" class=\"data row2 col2\" >0.831000</td>\n      <td id=\"T_39f0e_row2_col3\" class=\"data row2 col3\" >0.814600</td>\n      <td id=\"T_39f0e_row2_col4\" class=\"data row2 col4\" >0.904300</td>\n    </tr>\n  </tbody>\n</table>\n"
     },
     "metadata": {},
     "output_type": "display_data"
    }
   ],
   "source": [
    "mask_volume = np.asarray(df_feat[\"category\"] == \"ASA/Volume\")\n",
    "mask_conformation = np.asarray(df_feat[\"category\"] == \"Conformation\")\n",
    "mask_energy = np.asarray(df_feat[\"category\"] == \"Energy\")\n",
    "\n",
    "list_is_selected = [mask_volume, mask_conformation, mask_energy]\n",
    "df_eval = tm.eval(X, labels=labels, list_is_selected=list_is_selected, convert_1d_to_2d=True)\n",
    "aa.display_df(df_eval)"
   ],
   "metadata": {
    "collapsed": false,
    "ExecuteTime": {
     "end_time": "2024-01-14T16:23:32.657850062Z",
     "start_time": "2024-01-14T16:22:57.992791785Z"
    }
   },
   "id": "464cc7bb4362a735"
  },
  {
   "cell_type": "markdown",
   "source": [
    "Provide the names of the feature selections using the ``names_feature_selections`` parameter:"
   ],
   "metadata": {
    "collapsed": false
   },
   "id": "f499794f2ce5cc58"
  },
  {
   "cell_type": "code",
   "execution_count": 12,
   "outputs": [
    {
     "data": {
      "text/plain": "<IPython.core.display.HTML object>",
      "text/html": "<style type=\"text/css\">\n#T_91d4e thead th {\n  background-color: white;\n  color: black;\n}\n#T_91d4e tbody tr:nth-child(odd) {\n  background-color: #f2f2f2;\n}\n#T_91d4e tbody tr:nth-child(even) {\n  background-color: white;\n}\n#T_91d4e th {\n  padding: 5px;\n  white-space: nowrap;\n}\n#T_91d4e  td {\n  padding: 5px;\n  white-space: nowrap;\n}\n</style>\n<table id=\"T_91d4e\" style='display:block; max-height: 300px; max-width: 100%; overflow-x: auto; overflow-y: auto;'>\n  <thead>\n    <tr>\n      <th class=\"blank level0\" >&nbsp;</th>\n      <th id=\"T_91d4e_level0_col0\" class=\"col_heading level0 col0\" >name</th>\n      <th id=\"T_91d4e_level0_col1\" class=\"col_heading level0 col1\" >accuracy</th>\n      <th id=\"T_91d4e_level0_col2\" class=\"col_heading level0 col2\" >balanced_accuracy</th>\n      <th id=\"T_91d4e_level0_col3\" class=\"col_heading level0 col3\" >precision</th>\n      <th id=\"T_91d4e_level0_col4\" class=\"col_heading level0 col4\" >roc_auc</th>\n    </tr>\n  </thead>\n  <tbody>\n    <tr>\n      <th id=\"T_91d4e_level0_row0\" class=\"row_heading level0 row0\" >1</th>\n      <td id=\"T_91d4e_row0_col0\" class=\"data row0 col0\" >ASA/Volume</td>\n      <td id=\"T_91d4e_row0_col1\" class=\"data row0 col1\" >0.796900</td>\n      <td id=\"T_91d4e_row0_col2\" class=\"data row0 col2\" >0.797600</td>\n      <td id=\"T_91d4e_row0_col3\" class=\"data row0 col3\" >0.815600</td>\n      <td id=\"T_91d4e_row0_col4\" class=\"data row0 col4\" >0.871000</td>\n    </tr>\n    <tr>\n      <th id=\"T_91d4e_level0_row1\" class=\"row_heading level0 row1\" >2</th>\n      <td id=\"T_91d4e_row1_col0\" class=\"data row1 col0\" >Conformation</td>\n      <td id=\"T_91d4e_row1_col1\" class=\"data row1 col1\" >0.821100</td>\n      <td id=\"T_91d4e_row1_col2\" class=\"data row1 col2\" >0.823100</td>\n      <td id=\"T_91d4e_row1_col3\" class=\"data row1 col3\" >0.818500</td>\n      <td id=\"T_91d4e_row1_col4\" class=\"data row1 col4\" >0.934300</td>\n    </tr>\n    <tr>\n      <th id=\"T_91d4e_level0_row2\" class=\"row_heading level0 row2\" >3</th>\n      <td id=\"T_91d4e_row2_col0\" class=\"data row2 col0\" >Energy</td>\n      <td id=\"T_91d4e_row2_col1\" class=\"data row2 col1\" >0.817700</td>\n      <td id=\"T_91d4e_row2_col2\" class=\"data row2 col2\" >0.828200</td>\n      <td id=\"T_91d4e_row2_col3\" class=\"data row2 col3\" >0.826400</td>\n      <td id=\"T_91d4e_row2_col4\" class=\"data row2 col4\" >0.898500</td>\n    </tr>\n  </tbody>\n</table>\n"
     },
     "metadata": {},
     "output_type": "display_data"
    }
   ],
   "source": [
    "names_feature_selections = [\"ASA/Volume\", \"Conformation\", \"Energy\"]\n",
    "df_eval = tm.eval(X, labels=labels, list_is_selected=list_is_selected, convert_1d_to_2d=True, names_feature_selections=names_feature_selections)\n",
    "aa.display_df(df_eval)"
   ],
   "metadata": {
    "collapsed": false,
    "ExecuteTime": {
     "end_time": "2024-01-14T16:24:07.050672753Z",
     "start_time": "2024-01-14T16:23:32.659480782Z"
    }
   },
   "id": "e5dc86b6b1f19f21"
  },
  {
   "cell_type": "markdown",
   "source": [
    "The evaluation strategy can be adjusting by changing the number cross-validation folds (``n_cv``, default=5) and the scoring metrics via the ``list_metrics`` parameter (default=[\"accuracy\", \"recall\", \"precision\", \"f1\"]):"
   ],
   "metadata": {
    "collapsed": false
   },
   "id": "cfea9d6793508df2"
  },
  {
   "cell_type": "code",
   "execution_count": 13,
   "outputs": [
    {
     "data": {
      "text/plain": "<IPython.core.display.HTML object>",
      "text/html": "<style type=\"text/css\">\n#T_b9e84 thead th {\n  background-color: white;\n  color: black;\n}\n#T_b9e84 tbody tr:nth-child(odd) {\n  background-color: #f2f2f2;\n}\n#T_b9e84 tbody tr:nth-child(even) {\n  background-color: white;\n}\n#T_b9e84 th {\n  padding: 5px;\n  white-space: nowrap;\n}\n#T_b9e84  td {\n  padding: 5px;\n  white-space: nowrap;\n}\n</style>\n<table id=\"T_b9e84\" style='display:block; max-height: 300px; max-width: 100%; overflow-x: auto; overflow-y: auto;'>\n  <thead>\n    <tr>\n      <th class=\"blank level0\" >&nbsp;</th>\n      <th id=\"T_b9e84_level0_col0\" class=\"col_heading level0 col0\" >name</th>\n      <th id=\"T_b9e84_level0_col1\" class=\"col_heading level0 col1\" >balanced_accuracy</th>\n      <th id=\"T_b9e84_level0_col2\" class=\"col_heading level0 col2\" >roc_auc</th>\n    </tr>\n  </thead>\n  <tbody>\n    <tr>\n      <th id=\"T_b9e84_level0_row0\" class=\"row_heading level0 row0\" >1</th>\n      <td id=\"T_b9e84_row0_col0\" class=\"data row0 col0\" >Set 1</td>\n      <td id=\"T_b9e84_row0_col1\" class=\"data row0 col1\" >0.803400</td>\n      <td id=\"T_b9e84_row0_col2\" class=\"data row0 col2\" >0.868600</td>\n    </tr>\n    <tr>\n      <th id=\"T_b9e84_level0_row1\" class=\"row_heading level0 row1\" >2</th>\n      <td id=\"T_b9e84_row1_col0\" class=\"data row1 col0\" >Set 2</td>\n      <td id=\"T_b9e84_row1_col1\" class=\"data row1 col1\" >0.820300</td>\n      <td id=\"T_b9e84_row1_col2\" class=\"data row1 col2\" >0.938900</td>\n    </tr>\n    <tr>\n      <th id=\"T_b9e84_level0_row2\" class=\"row_heading level0 row2\" >3</th>\n      <td id=\"T_b9e84_row2_col0\" class=\"data row2 col0\" >Set 3</td>\n      <td id=\"T_b9e84_row2_col1\" class=\"data row2 col1\" >0.817500</td>\n      <td id=\"T_b9e84_row2_col2\" class=\"data row2 col2\" >0.903000</td>\n    </tr>\n  </tbody>\n</table>\n"
     },
     "metadata": {},
     "output_type": "display_data"
    }
   ],
   "source": [
    "list_metrics = [\"balanced_accuracy\", \"roc_auc\"]\n",
    "df_eval = tm.eval(X, labels=labels, list_is_selected=list_is_selected, convert_1d_to_2d=True, list_metrics=list_metrics)\n",
    "aa.display_df(df_eval)"
   ],
   "metadata": {
    "collapsed": false,
    "ExecuteTime": {
     "end_time": "2024-01-14T16:24:24.052251230Z",
     "start_time": "2024-01-14T16:24:07.048654190Z"
    }
   },
   "id": "1a06edca812f75c2"
  }
 ],
 "metadata": {
  "kernelspec": {
   "display_name": "Python 3",
   "language": "python",
   "name": "python3"
  },
  "language_info": {
   "codemirror_mode": {
    "name": "ipython",
    "version": 2
   },
   "file_extension": ".py",
   "mimetype": "text/x-python",
   "name": "python",
   "nbconvert_exporter": "python",
   "pygments_lexer": "ipython2",
   "version": "2.7.6"
  }
 },
 "nbformat": 4,
 "nbformat_minor": 5
}
