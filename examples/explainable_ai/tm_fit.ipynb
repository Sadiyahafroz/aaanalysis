{
 "cells": [
  {
   "cell_type": "markdown",
   "source": [
    "To demonstrate the ``TreeModel().fit()``method, we obtain the ``DOM_GSEC`` example dataset and its respective feature set (see [Breimann25a]_):"
   ],
   "metadata": {
    "collapsed": false
   },
   "id": "ed68431a64addda8"
  },
  {
   "cell_type": "code",
   "execution_count": 8,
   "outputs": [],
   "source": [
    "import aaanalysis as aa\n",
    "aa.options[\"verbose\"] = False # Disable verbosity\n",
    "\n",
    "df_seq = aa.load_dataset(name=\"DOM_GSEC\")\n",
    "labels = df_seq[\"label\"].to_list()\n",
    "df_feat = aa.load_features(name=\"DOM_GSEC\").head(10)\n",
    "\n",
    "# Create feature matrix\n",
    "sf = aa.SequenceFeature()\n",
    "df_parts = sf.get_df_parts(df_seq=df_seq)\n",
    "X = sf.feature_matrix(features=df_feat[\"feature\"], df_parts=df_parts)"
   ],
   "metadata": {
    "collapsed": false,
    "ExecuteTime": {
     "end_time": "2024-01-14T09:31:51.692803470Z",
     "start_time": "2024-01-14T09:31:51.396096966Z"
    }
   },
   "id": "535d576d07277d53"
  },
  {
   "cell_type": "markdown",
   "source": [
    "We can now create a ``TreeModel`` object and fit it to obtain the importance of each feature and their standard deviation using the ``feat_importance`` and ``feat_importance_std`` attributes:"
   ],
   "metadata": {
    "collapsed": false
   },
   "id": "1e1a81780018b7e3"
  },
  {
   "cell_type": "code",
   "execution_count": 9,
   "outputs": [
    {
     "name": "stdout",
     "output_type": "stream",
     "text": [
      "Feature importance:  [ 4.682  9.968  9.458 16.027  7.644  4.682  6.62   9.335 11.505 20.08 ]\n",
      "Their STD:  [0.166 0.446 0.246 0.12  0.288 0.397 0.279 0.583 0.687 0.597]\n"
     ]
    }
   ],
   "source": [
    "tm = aa.TreeModel()\n",
    "tm.fit(X, labels=labels)\n",
    "\n",
    "feat_importance = tm.feat_importance\n",
    "feat_importance_std = tm.feat_importance_std\n",
    "\n",
    "print(\"Feature importance: \", feat_importance)\n",
    "print(\"Their STD: \", feat_importance_std)"
   ],
   "metadata": {
    "collapsed": false,
    "ExecuteTime": {
     "end_time": "2024-01-14T09:31:55.608761119Z",
     "start_time": "2024-01-14T09:31:52.419422144Z"
    }
   },
   "id": "674ff259d6d98a32"
  },
  {
   "cell_type": "markdown",
   "source": [
    "To obtain Monte Carlo estimates of the feature importance, the ``TreeModel().fit()`` method performs 5 rounds of model fitting and averages the feature importance across all rounds. The number of rounds can be adjusted using the ``n_rounds`` (default=5) parameter:"
   ],
   "metadata": {
    "collapsed": false
   },
   "id": "565f4435696dbf3e"
  },
  {
   "cell_type": "code",
   "execution_count": 10,
   "outputs": [
    {
     "name": "stdout",
     "output_type": "stream",
     "text": [
      "Feature importance:  [ 5.179  9.541  8.865 16.063  7.606  4.709  6.181  9.568 11.244 21.044]\n",
      "Their STD:  [0. 0. 0. 0. 0. 0. 0. 0. 0. 0.]\n"
     ]
    }
   ],
   "source": [
    "tm = aa.TreeModel()\n",
    "tm.fit(X, labels=labels, n_rounds=1)\n",
    "\n",
    "feat_importance = tm.feat_importance\n",
    "feat_importance_std = tm.feat_importance_std\n",
    "\n",
    "print(\"Feature importance: \", feat_importance)\n",
    "print(\"Their STD: \", feat_importance_std)"
   ],
   "metadata": {
    "collapsed": false,
    "ExecuteTime": {
     "end_time": "2024-01-14T09:31:56.243143108Z",
     "start_time": "2024-01-14T09:31:55.612851791Z"
    }
   },
   "id": "d9d6fa8e6a0f6fdb"
  },
  {
   "cell_type": "markdown",
   "source": [
    "Moreover, it applies a recursive feature elimination (RFE) algorithm, which can be disabled by setting ``use_rfe=False``:"
   ],
   "metadata": {
    "collapsed": false
   },
   "id": "2c341aebf03fdcb"
  },
  {
   "cell_type": "code",
   "execution_count": 11,
   "outputs": [
    {
     "name": "stdout",
     "output_type": "stream",
     "text": [
      "Feature importance:  [ 4.749  9.527  9.617 16.166  7.799  4.576  7.132  9.225 11.042 20.168]\n"
     ]
    }
   ],
   "source": [
    "tm.fit(X, labels=labels, use_rfe=False)\n",
    "feat_importance = tm.feat_importance\n",
    "print(\"Feature importance: \", feat_importance)"
   ],
   "metadata": {
    "collapsed": false,
    "ExecuteTime": {
     "end_time": "2024-01-14T09:31:59.126039002Z",
     "start_time": "2024-01-14T09:31:56.273053949Z"
    }
   },
   "id": "c93268378a29585c"
  },
  {
   "cell_type": "markdown",
   "source": [
    "The number of features selected per round is controlled by the ``n_feat_min`` and ``n_feat_max`` parameters:"
   ],
   "metadata": {
    "collapsed": false
   },
   "id": "fba4bddfdc440c20"
  },
  {
   "cell_type": "code",
   "execution_count": 12,
   "outputs": [
    {
     "name": "stdout",
     "output_type": "stream",
     "text": [
      "Feature importance:  [ 0.     0.     5.676 43.966  5.15   0.     0.     0.     0.    45.207]\n"
     ]
    }
   ],
   "source": [
    "tm.fit(X, labels=labels, n_feat_min=1, n_feat_max=3)\n",
    "feat_importance = tm.feat_importance\n",
    "print(\"Feature importance: \", feat_importance)"
   ],
   "metadata": {
    "collapsed": false,
    "ExecuteTime": {
     "end_time": "2024-01-14T09:32:27.297461885Z",
     "start_time": "2024-01-14T09:31:59.134504524Z"
    }
   },
   "id": "b9d508673003bd0e"
  },
  {
   "cell_type": "markdown",
   "source": [
    "The performance measure for the evaluation during each RFE iteration can be set by the ``metric`` parameter (default=``accuracy``):"
   ],
   "metadata": {
    "collapsed": false
   },
   "id": "8f7ff79b77db6055"
  },
  {
   "cell_type": "code",
   "execution_count": 13,
   "outputs": [
    {
     "name": "stdout",
     "output_type": "stream",
     "text": [
      "Feature importance:  [ 4.838  9.73   9.652 16.553  7.613  4.456  6.76   9.181 11.113 20.105]\n"
     ]
    }
   ],
   "source": [
    "tm.fit(X, labels=labels, metric=\"recall\")\n",
    "feat_importance = tm.feat_importance\n",
    "print(\"Feature importance: \", feat_importance)"
   ],
   "metadata": {
    "collapsed": false,
    "ExecuteTime": {
     "end_time": "2024-01-14T09:32:29.875036733Z",
     "start_time": "2024-01-14T09:32:27.321301321Z"
    }
   },
   "id": "d9b6bbdbb25e0308"
  },
  {
   "cell_type": "markdown",
   "source": [
    "The features eliminated in each step is controlled by the ``step`` parameter (default=1), which can be set to ``None`` to remove in each iteration all features with the lowest importance. This offers a faster but less precise approach:"
   ],
   "metadata": {
    "collapsed": false
   },
   "id": "b77721491d3213d5"
  },
  {
   "cell_type": "code",
   "execution_count": 14,
   "outputs": [
    {
     "name": "stdout",
     "output_type": "stream",
     "text": [
      "Feature importance:  [ 4.623  9.636  9.454 16.743  7.645  4.761  6.754  9.522 11.383 19.48 ]\n"
     ]
    }
   ],
   "source": [
    "tm.fit(X, labels=labels, step=None)\n",
    "feat_importance = tm.feat_importance\n",
    "print(\"Feature importance: \", feat_importance)"
   ],
   "metadata": {
    "collapsed": false,
    "ExecuteTime": {
     "end_time": "2024-01-14T09:32:32.503693243Z",
     "start_time": "2024-01-14T09:32:29.876693017Z"
    }
   },
   "id": "56c88a441ea58e1e"
  }
 ],
 "metadata": {
  "kernelspec": {
   "display_name": "Python 3",
   "language": "python",
   "name": "python3"
  },
  "language_info": {
   "codemirror_mode": {
    "name": "ipython",
    "version": 2
   },
   "file_extension": ".py",
   "mimetype": "text/x-python",
   "name": "python",
   "nbconvert_exporter": "python",
   "pygments_lexer": "ipython2",
   "version": "2.7.6"
  }
 },
 "nbformat": 4,
 "nbformat_minor": 5
}
