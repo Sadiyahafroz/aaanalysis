{
 "cells": [
  {
   "cell_type": "markdown",
   "source": [
    "To demonstrate the ``TreeModel().add_feat_importance()``method, we obtain the ``DOM_GSEC`` example dataset and its respective feature set (see [Breimann25a]_):"
   ],
   "metadata": {
    "collapsed": false
   },
   "id": "f76c3f9342abf1a9"
  },
  {
   "cell_type": "code",
   "execution_count": 22,
   "outputs": [],
   "source": [
    "import aaanalysis as aa\n",
    "aa.options[\"verbose\"] = False # Disable verbosity\n",
    "\n",
    "df_seq = aa.load_dataset(name=\"DOM_GSEC\")\n",
    "labels = df_seq[\"label\"].to_list()\n",
    "df_feat = aa.load_features(name=\"DOM_GSEC\").head(7)\n",
    "\n",
    "# Create feature matrix\n",
    "sf = aa.SequenceFeature()\n",
    "df_parts = sf.get_df_parts(df_seq=df_seq)\n",
    "X = sf.feature_matrix(features=df_feat[\"feature\"], df_parts=df_parts)"
   ],
   "metadata": {
    "collapsed": false,
    "ExecuteTime": {
     "end_time": "2024-01-14T18:44:10.010498534Z",
     "start_time": "2024-01-14T18:44:09.772217562Z"
    }
   },
   "id": "486d7849cc71a4c9"
  },
  {
   "cell_type": "markdown",
   "source": [
    "We can not fit the ``TreeModel``, which will internally fit 3 tree-based models over 5 training rounds be default:"
   ],
   "metadata": {
    "collapsed": false
   },
   "id": "4a456ab4b4769ab2"
  },
  {
   "cell_type": "code",
   "execution_count": 23,
   "outputs": [],
   "source": [
    "tm = aa.TreeModel()\n",
    "tm = tm.fit(X, labels=labels)"
   ],
   "metadata": {
    "collapsed": false,
    "ExecuteTime": {
     "end_time": "2024-01-14T18:44:14.018418666Z",
     "start_time": "2024-01-14T18:44:11.244165559Z"
    }
   },
   "id": "1e26983bae2e8add"
  },
  {
   "cell_type": "markdown",
   "source": [
    "We can directly retrieve the feature importance using the ``feat_importance`` attribute of the ``TreeModel`` class:"
   ],
   "metadata": {
    "collapsed": false
   },
   "id": "b6ed0d5131ef8dd5"
  },
  {
   "cell_type": "code",
   "execution_count": 28,
   "outputs": [
    {
     "name": "stdout",
     "output_type": "stream",
     "text": [
      "Feature importance:  [ 6.291 15.453 17.95  26.841 15.644  7.099 10.722]\n"
     ]
    }
   ],
   "source": [
    "feat_importance = tm.feat_importance\n",
    "print(\"Feature importance: \", feat_importance)"
   ],
   "metadata": {
    "collapsed": false,
    "ExecuteTime": {
     "end_time": "2024-01-14T18:49:50.250326852Z",
     "start_time": "2024-01-14T18:49:50.187975732Z"
    }
   },
   "id": "851a5d79cb71c8f2"
  },
  {
   "cell_type": "markdown",
   "source": [
    "To add these values to the feature DataFrame (``df_feat``), it should not already contain the ``feat_importance`` and ``feat_importance_std`` columns: "
   ],
   "metadata": {
    "collapsed": false
   },
   "id": "449dabe0c0ce904f"
  },
  {
   "cell_type": "code",
   "execution_count": 25,
   "outputs": [],
   "source": [
    "# Remove feature importance columns\n",
    "df_feat = df_feat[[x for x in list(df_feat) if x not in [\"feat_importance\", \"feat_importance_std\"]]]"
   ],
   "metadata": {
    "collapsed": false,
    "ExecuteTime": {
     "end_time": "2024-01-14T18:44:14.199604089Z",
     "start_time": "2024-01-14T18:44:14.188706943Z"
    }
   },
   "id": "735ba127b9c75fe3"
  },
  {
   "cell_type": "markdown",
   "source": [
    "Now the importance obtain from the fitted model can be inserted with the conventional column names by using the ``TreeModel().add_feat_importance()`` method:"
   ],
   "metadata": {
    "collapsed": false
   },
   "id": "283dba25ed8559a6"
  },
  {
   "cell_type": "code",
   "execution_count": 26,
   "outputs": [
    {
     "data": {
      "text/plain": "<IPython.core.display.HTML object>",
      "text/html": "<style type=\"text/css\">\n#T_67315 thead th {\n  background-color: white;\n  color: black;\n}\n#T_67315 tbody tr:nth-child(odd) {\n  background-color: #f2f2f2;\n}\n#T_67315 tbody tr:nth-child(even) {\n  background-color: white;\n}\n#T_67315 th {\n  padding: 5px;\n  white-space: nowrap;\n}\n#T_67315  td {\n  padding: 5px;\n  white-space: nowrap;\n}\n</style>\n<table id=\"T_67315\" style='display:block; max-height: 300px; max-width: 100%; overflow-x: auto; overflow-y: auto;'>\n  <thead>\n    <tr>\n      <th class=\"blank level0\" >&nbsp;</th>\n      <th id=\"T_67315_level0_col0\" class=\"col_heading level0 col0\" >feature</th>\n      <th id=\"T_67315_level0_col1\" class=\"col_heading level0 col1\" >category</th>\n      <th id=\"T_67315_level0_col2\" class=\"col_heading level0 col2\" >subcategory</th>\n      <th id=\"T_67315_level0_col3\" class=\"col_heading level0 col3\" >scale_name</th>\n      <th id=\"T_67315_level0_col4\" class=\"col_heading level0 col4\" >scale_description</th>\n      <th id=\"T_67315_level0_col5\" class=\"col_heading level0 col5\" >abs_auc</th>\n      <th id=\"T_67315_level0_col6\" class=\"col_heading level0 col6\" >abs_mean_dif</th>\n      <th id=\"T_67315_level0_col7\" class=\"col_heading level0 col7\" >mean_dif</th>\n      <th id=\"T_67315_level0_col8\" class=\"col_heading level0 col8\" >std_test</th>\n      <th id=\"T_67315_level0_col9\" class=\"col_heading level0 col9\" >std_ref</th>\n      <th id=\"T_67315_level0_col10\" class=\"col_heading level0 col10\" >p_val_mann_whitney</th>\n      <th id=\"T_67315_level0_col11\" class=\"col_heading level0 col11\" >p_val_fdr_bh</th>\n      <th id=\"T_67315_level0_col12\" class=\"col_heading level0 col12\" >positions</th>\n      <th id=\"T_67315_level0_col13\" class=\"col_heading level0 col13\" >feat_importance</th>\n      <th id=\"T_67315_level0_col14\" class=\"col_heading level0 col14\" >feat_importance_std</th>\n    </tr>\n  </thead>\n  <tbody>\n    <tr>\n      <th id=\"T_67315_level0_row0\" class=\"row_heading level0 row0\" >1</th>\n      <td id=\"T_67315_row0_col0\" class=\"data row0 col0\" >TMD_C_JMD_C-Seg...3,4)-KLEP840101</td>\n      <td id=\"T_67315_row0_col1\" class=\"data row0 col1\" >Energy</td>\n      <td id=\"T_67315_row0_col2\" class=\"data row0 col2\" >Charge</td>\n      <td id=\"T_67315_row0_col3\" class=\"data row0 col3\" >Charge</td>\n      <td id=\"T_67315_row0_col4\" class=\"data row0 col4\" >Net charge (Kle...n et al., 1984)</td>\n      <td id=\"T_67315_row0_col5\" class=\"data row0 col5\" >0.244000</td>\n      <td id=\"T_67315_row0_col6\" class=\"data row0 col6\" >0.103666</td>\n      <td id=\"T_67315_row0_col7\" class=\"data row0 col7\" >0.103666</td>\n      <td id=\"T_67315_row0_col8\" class=\"data row0 col8\" >0.106692</td>\n      <td id=\"T_67315_row0_col9\" class=\"data row0 col9\" >0.110506</td>\n      <td id=\"T_67315_row0_col10\" class=\"data row0 col10\" >0.000000</td>\n      <td id=\"T_67315_row0_col11\" class=\"data row0 col11\" >0.000000</td>\n      <td id=\"T_67315_row0_col12\" class=\"data row0 col12\" >31,32,33,34,35</td>\n      <td id=\"T_67315_row0_col13\" class=\"data row0 col13\" >6.291000</td>\n      <td id=\"T_67315_row0_col14\" class=\"data row0 col14\" >0.391000</td>\n    </tr>\n    <tr>\n      <th id=\"T_67315_level0_row1\" class=\"row_heading level0 row1\" >2</th>\n      <td id=\"T_67315_row1_col0\" class=\"data row1 col0\" >TMD_C_JMD_C-Seg...3,4)-FINA910104</td>\n      <td id=\"T_67315_row1_col1\" class=\"data row1 col1\" >Conformation</td>\n      <td id=\"T_67315_row1_col2\" class=\"data row1 col2\" >α-helix (C-cap)</td>\n      <td id=\"T_67315_row1_col3\" class=\"data row1 col3\" >α-helix termination</td>\n      <td id=\"T_67315_row1_col4\" class=\"data row1 col4\" >Helix terminati...n et al., 1991)</td>\n      <td id=\"T_67315_row1_col5\" class=\"data row1 col5\" >0.243000</td>\n      <td id=\"T_67315_row1_col6\" class=\"data row1 col6\" >0.085064</td>\n      <td id=\"T_67315_row1_col7\" class=\"data row1 col7\" >0.085064</td>\n      <td id=\"T_67315_row1_col8\" class=\"data row1 col8\" >0.098774</td>\n      <td id=\"T_67315_row1_col9\" class=\"data row1 col9\" >0.096946</td>\n      <td id=\"T_67315_row1_col10\" class=\"data row1 col10\" >0.000000</td>\n      <td id=\"T_67315_row1_col11\" class=\"data row1 col11\" >0.000000</td>\n      <td id=\"T_67315_row1_col12\" class=\"data row1 col12\" >31,32,33,34,35</td>\n      <td id=\"T_67315_row1_col13\" class=\"data row1 col13\" >15.453000</td>\n      <td id=\"T_67315_row1_col14\" class=\"data row1 col14\" >0.700000</td>\n    </tr>\n    <tr>\n      <th id=\"T_67315_level0_row2\" class=\"row_heading level0 row2\" >3</th>\n      <td id=\"T_67315_row2_col0\" class=\"data row2 col0\" >TMD_C_JMD_C-Seg...6,9)-LEVM760105</td>\n      <td id=\"T_67315_row2_col1\" class=\"data row2 col1\" >Shape</td>\n      <td id=\"T_67315_row2_col2\" class=\"data row2 col2\" >Side chain length</td>\n      <td id=\"T_67315_row2_col3\" class=\"data row2 col3\" >Side chain length</td>\n      <td id=\"T_67315_row2_col4\" class=\"data row2 col4\" >Radius of gyrat... (Levitt, 1976)</td>\n      <td id=\"T_67315_row2_col5\" class=\"data row2 col5\" >0.233000</td>\n      <td id=\"T_67315_row2_col6\" class=\"data row2 col6\" >0.137044</td>\n      <td id=\"T_67315_row2_col7\" class=\"data row2 col7\" >0.137044</td>\n      <td id=\"T_67315_row2_col8\" class=\"data row2 col8\" >0.161683</td>\n      <td id=\"T_67315_row2_col9\" class=\"data row2 col9\" >0.176964</td>\n      <td id=\"T_67315_row2_col10\" class=\"data row2 col10\" >0.000000</td>\n      <td id=\"T_67315_row2_col11\" class=\"data row2 col11\" >0.000001</td>\n      <td id=\"T_67315_row2_col12\" class=\"data row2 col12\" >32,33</td>\n      <td id=\"T_67315_row2_col13\" class=\"data row2 col13\" >17.950000</td>\n      <td id=\"T_67315_row2_col14\" class=\"data row2 col14\" >0.525000</td>\n    </tr>\n    <tr>\n      <th id=\"T_67315_level0_row3\" class=\"row_heading level0 row3\" >4</th>\n      <td id=\"T_67315_row3_col0\" class=\"data row3 col0\" >TMD_C_JMD_C-Seg...3,4)-HUTJ700102</td>\n      <td id=\"T_67315_row3_col1\" class=\"data row3 col1\" >Energy</td>\n      <td id=\"T_67315_row3_col2\" class=\"data row3 col2\" >Entropy</td>\n      <td id=\"T_67315_row3_col3\" class=\"data row3 col3\" >Entropy</td>\n      <td id=\"T_67315_row3_col4\" class=\"data row3 col4\" >Absolute entrop...Hutchens, 1970)</td>\n      <td id=\"T_67315_row3_col5\" class=\"data row3 col5\" >0.229000</td>\n      <td id=\"T_67315_row3_col6\" class=\"data row3 col6\" >0.098224</td>\n      <td id=\"T_67315_row3_col7\" class=\"data row3 col7\" >0.098224</td>\n      <td id=\"T_67315_row3_col8\" class=\"data row3 col8\" >0.106865</td>\n      <td id=\"T_67315_row3_col9\" class=\"data row3 col9\" >0.124608</td>\n      <td id=\"T_67315_row3_col10\" class=\"data row3 col10\" >0.000000</td>\n      <td id=\"T_67315_row3_col11\" class=\"data row3 col11\" >0.000001</td>\n      <td id=\"T_67315_row3_col12\" class=\"data row3 col12\" >31,32,33,34,35</td>\n      <td id=\"T_67315_row3_col13\" class=\"data row3 col13\" >26.841000</td>\n      <td id=\"T_67315_row3_col14\" class=\"data row3 col14\" >0.606000</td>\n    </tr>\n    <tr>\n      <th id=\"T_67315_level0_row4\" class=\"row_heading level0 row4\" >5</th>\n      <td id=\"T_67315_row4_col0\" class=\"data row4 col0\" >TMD_C_JMD_C-Seg...6,9)-RADA880106</td>\n      <td id=\"T_67315_row4_col1\" class=\"data row4 col1\" >ASA/Volume</td>\n      <td id=\"T_67315_row4_col2\" class=\"data row4 col2\" >Volume</td>\n      <td id=\"T_67315_row4_col3\" class=\"data row4 col3\" >Accessible surface area (ASA)</td>\n      <td id=\"T_67315_row4_col4\" class=\"data row4 col4\" >Accessible surf...olfenden, 1988)</td>\n      <td id=\"T_67315_row4_col5\" class=\"data row4 col5\" >0.223000</td>\n      <td id=\"T_67315_row4_col6\" class=\"data row4 col6\" >0.095071</td>\n      <td id=\"T_67315_row4_col7\" class=\"data row4 col7\" >0.095071</td>\n      <td id=\"T_67315_row4_col8\" class=\"data row4 col8\" >0.114758</td>\n      <td id=\"T_67315_row4_col9\" class=\"data row4 col9\" >0.132829</td>\n      <td id=\"T_67315_row4_col10\" class=\"data row4 col10\" >0.000000</td>\n      <td id=\"T_67315_row4_col11\" class=\"data row4 col11\" >0.000002</td>\n      <td id=\"T_67315_row4_col12\" class=\"data row4 col12\" >32,33</td>\n      <td id=\"T_67315_row4_col13\" class=\"data row4 col13\" >15.644000</td>\n      <td id=\"T_67315_row4_col14\" class=\"data row4 col14\" >0.779000</td>\n    </tr>\n    <tr>\n      <th id=\"T_67315_level0_row5\" class=\"row_heading level0 row5\" >6</th>\n      <td id=\"T_67315_row5_col0\" class=\"data row5 col0\" >TMD_C_JMD_C-Seg...2,3)-KLEP840101</td>\n      <td id=\"T_67315_row5_col1\" class=\"data row5 col1\" >Energy</td>\n      <td id=\"T_67315_row5_col2\" class=\"data row5 col2\" >Charge</td>\n      <td id=\"T_67315_row5_col3\" class=\"data row5 col3\" >Charge</td>\n      <td id=\"T_67315_row5_col4\" class=\"data row5 col4\" >Net charge (Kle...n et al., 1984)</td>\n      <td id=\"T_67315_row5_col5\" class=\"data row5 col5\" >0.222000</td>\n      <td id=\"T_67315_row5_col6\" class=\"data row5 col6\" >0.058671</td>\n      <td id=\"T_67315_row5_col7\" class=\"data row5 col7\" >0.058671</td>\n      <td id=\"T_67315_row5_col8\" class=\"data row5 col8\" >0.064895</td>\n      <td id=\"T_67315_row5_col9\" class=\"data row5 col9\" >0.069547</td>\n      <td id=\"T_67315_row5_col10\" class=\"data row5 col10\" >0.000000</td>\n      <td id=\"T_67315_row5_col11\" class=\"data row5 col11\" >0.000001</td>\n      <td id=\"T_67315_row5_col12\" class=\"data row5 col12\" >27,28,29,30,31,32,33</td>\n      <td id=\"T_67315_row5_col13\" class=\"data row5 col13\" >7.099000</td>\n      <td id=\"T_67315_row5_col14\" class=\"data row5 col14\" >0.542000</td>\n    </tr>\n    <tr>\n      <th id=\"T_67315_level0_row6\" class=\"row_heading level0 row6\" >7</th>\n      <td id=\"T_67315_row6_col0\" class=\"data row6 col0\" >TMD_C_JMD_C-Seg...4,5)-FAUJ880109</td>\n      <td id=\"T_67315_row6_col1\" class=\"data row6 col1\" >Energy</td>\n      <td id=\"T_67315_row6_col2\" class=\"data row6 col2\" >Isoelectric point</td>\n      <td id=\"T_67315_row6_col3\" class=\"data row6 col3\" >Number hydrogen bond donors</td>\n      <td id=\"T_67315_row6_col4\" class=\"data row6 col4\" >Number of hydro...e et al., 1988)</td>\n      <td id=\"T_67315_row6_col5\" class=\"data row6 col5\" >0.215000</td>\n      <td id=\"T_67315_row6_col6\" class=\"data row6 col6\" >0.146661</td>\n      <td id=\"T_67315_row6_col7\" class=\"data row6 col7\" >0.146661</td>\n      <td id=\"T_67315_row6_col8\" class=\"data row6 col8\" >0.174609</td>\n      <td id=\"T_67315_row6_col9\" class=\"data row6 col9\" >0.188034</td>\n      <td id=\"T_67315_row6_col10\" class=\"data row6 col10\" >0.000000</td>\n      <td id=\"T_67315_row6_col11\" class=\"data row6 col11\" >0.000004</td>\n      <td id=\"T_67315_row6_col12\" class=\"data row6 col12\" >33,34,35,36</td>\n      <td id=\"T_67315_row6_col13\" class=\"data row6 col13\" >10.722000</td>\n      <td id=\"T_67315_row6_col14\" class=\"data row6 col14\" >0.350000</td>\n    </tr>\n  </tbody>\n</table>\n"
     },
     "metadata": {},
     "output_type": "display_data"
    }
   ],
   "source": [
    "df_feat = tm.add_feat_importance(df_feat=df_feat)\n",
    "aa.display_df(df_feat)"
   ],
   "metadata": {
    "collapsed": false,
    "ExecuteTime": {
     "end_time": "2024-01-14T18:44:15.371220552Z",
     "start_time": "2024-01-14T18:44:15.230224686Z"
    }
   },
   "id": "cccef971de7f5790"
  },
  {
   "cell_type": "markdown",
   "source": [
    "To override already existing feature importance columns, set ``drop=True``:"
   ],
   "metadata": {
    "collapsed": false
   },
   "id": "1a9e20eea83a0df"
  },
  {
   "cell_type": "code",
   "execution_count": 27,
   "outputs": [
    {
     "data": {
      "text/plain": "<IPython.core.display.HTML object>",
      "text/html": "<style type=\"text/css\">\n#T_7e7fa thead th {\n  background-color: white;\n  color: black;\n}\n#T_7e7fa tbody tr:nth-child(odd) {\n  background-color: #f2f2f2;\n}\n#T_7e7fa tbody tr:nth-child(even) {\n  background-color: white;\n}\n#T_7e7fa th {\n  padding: 5px;\n  white-space: nowrap;\n}\n#T_7e7fa  td {\n  padding: 5px;\n  white-space: nowrap;\n}\n</style>\n<table id=\"T_7e7fa\" style='display:block; max-height: 300px; max-width: 100%; overflow-x: auto; overflow-y: auto;'>\n  <thead>\n    <tr>\n      <th class=\"blank level0\" >&nbsp;</th>\n      <th id=\"T_7e7fa_level0_col0\" class=\"col_heading level0 col0\" >feature</th>\n      <th id=\"T_7e7fa_level0_col1\" class=\"col_heading level0 col1\" >category</th>\n      <th id=\"T_7e7fa_level0_col2\" class=\"col_heading level0 col2\" >subcategory</th>\n      <th id=\"T_7e7fa_level0_col3\" class=\"col_heading level0 col3\" >scale_name</th>\n      <th id=\"T_7e7fa_level0_col4\" class=\"col_heading level0 col4\" >scale_description</th>\n      <th id=\"T_7e7fa_level0_col5\" class=\"col_heading level0 col5\" >abs_auc</th>\n      <th id=\"T_7e7fa_level0_col6\" class=\"col_heading level0 col6\" >abs_mean_dif</th>\n      <th id=\"T_7e7fa_level0_col7\" class=\"col_heading level0 col7\" >mean_dif</th>\n      <th id=\"T_7e7fa_level0_col8\" class=\"col_heading level0 col8\" >std_test</th>\n      <th id=\"T_7e7fa_level0_col9\" class=\"col_heading level0 col9\" >std_ref</th>\n      <th id=\"T_7e7fa_level0_col10\" class=\"col_heading level0 col10\" >p_val_mann_whitney</th>\n      <th id=\"T_7e7fa_level0_col11\" class=\"col_heading level0 col11\" >p_val_fdr_bh</th>\n      <th id=\"T_7e7fa_level0_col12\" class=\"col_heading level0 col12\" >positions</th>\n      <th id=\"T_7e7fa_level0_col13\" class=\"col_heading level0 col13\" >feat_importance</th>\n      <th id=\"T_7e7fa_level0_col14\" class=\"col_heading level0 col14\" >feat_importance_std</th>\n    </tr>\n  </thead>\n  <tbody>\n    <tr>\n      <th id=\"T_7e7fa_level0_row0\" class=\"row_heading level0 row0\" >1</th>\n      <td id=\"T_7e7fa_row0_col0\" class=\"data row0 col0\" >TMD_C_JMD_C-Seg...3,4)-KLEP840101</td>\n      <td id=\"T_7e7fa_row0_col1\" class=\"data row0 col1\" >Energy</td>\n      <td id=\"T_7e7fa_row0_col2\" class=\"data row0 col2\" >Charge</td>\n      <td id=\"T_7e7fa_row0_col3\" class=\"data row0 col3\" >Charge</td>\n      <td id=\"T_7e7fa_row0_col4\" class=\"data row0 col4\" >Net charge (Kle...n et al., 1984)</td>\n      <td id=\"T_7e7fa_row0_col5\" class=\"data row0 col5\" >0.244000</td>\n      <td id=\"T_7e7fa_row0_col6\" class=\"data row0 col6\" >0.103666</td>\n      <td id=\"T_7e7fa_row0_col7\" class=\"data row0 col7\" >0.103666</td>\n      <td id=\"T_7e7fa_row0_col8\" class=\"data row0 col8\" >0.106692</td>\n      <td id=\"T_7e7fa_row0_col9\" class=\"data row0 col9\" >0.110506</td>\n      <td id=\"T_7e7fa_row0_col10\" class=\"data row0 col10\" >0.000000</td>\n      <td id=\"T_7e7fa_row0_col11\" class=\"data row0 col11\" >0.000000</td>\n      <td id=\"T_7e7fa_row0_col12\" class=\"data row0 col12\" >31,32,33,34,35</td>\n      <td id=\"T_7e7fa_row0_col13\" class=\"data row0 col13\" >6.291000</td>\n      <td id=\"T_7e7fa_row0_col14\" class=\"data row0 col14\" >0.391000</td>\n    </tr>\n    <tr>\n      <th id=\"T_7e7fa_level0_row1\" class=\"row_heading level0 row1\" >2</th>\n      <td id=\"T_7e7fa_row1_col0\" class=\"data row1 col0\" >TMD_C_JMD_C-Seg...3,4)-FINA910104</td>\n      <td id=\"T_7e7fa_row1_col1\" class=\"data row1 col1\" >Conformation</td>\n      <td id=\"T_7e7fa_row1_col2\" class=\"data row1 col2\" >α-helix (C-cap)</td>\n      <td id=\"T_7e7fa_row1_col3\" class=\"data row1 col3\" >α-helix termination</td>\n      <td id=\"T_7e7fa_row1_col4\" class=\"data row1 col4\" >Helix terminati...n et al., 1991)</td>\n      <td id=\"T_7e7fa_row1_col5\" class=\"data row1 col5\" >0.243000</td>\n      <td id=\"T_7e7fa_row1_col6\" class=\"data row1 col6\" >0.085064</td>\n      <td id=\"T_7e7fa_row1_col7\" class=\"data row1 col7\" >0.085064</td>\n      <td id=\"T_7e7fa_row1_col8\" class=\"data row1 col8\" >0.098774</td>\n      <td id=\"T_7e7fa_row1_col9\" class=\"data row1 col9\" >0.096946</td>\n      <td id=\"T_7e7fa_row1_col10\" class=\"data row1 col10\" >0.000000</td>\n      <td id=\"T_7e7fa_row1_col11\" class=\"data row1 col11\" >0.000000</td>\n      <td id=\"T_7e7fa_row1_col12\" class=\"data row1 col12\" >31,32,33,34,35</td>\n      <td id=\"T_7e7fa_row1_col13\" class=\"data row1 col13\" >15.453000</td>\n      <td id=\"T_7e7fa_row1_col14\" class=\"data row1 col14\" >0.700000</td>\n    </tr>\n    <tr>\n      <th id=\"T_7e7fa_level0_row2\" class=\"row_heading level0 row2\" >3</th>\n      <td id=\"T_7e7fa_row2_col0\" class=\"data row2 col0\" >TMD_C_JMD_C-Seg...6,9)-LEVM760105</td>\n      <td id=\"T_7e7fa_row2_col1\" class=\"data row2 col1\" >Shape</td>\n      <td id=\"T_7e7fa_row2_col2\" class=\"data row2 col2\" >Side chain length</td>\n      <td id=\"T_7e7fa_row2_col3\" class=\"data row2 col3\" >Side chain length</td>\n      <td id=\"T_7e7fa_row2_col4\" class=\"data row2 col4\" >Radius of gyrat... (Levitt, 1976)</td>\n      <td id=\"T_7e7fa_row2_col5\" class=\"data row2 col5\" >0.233000</td>\n      <td id=\"T_7e7fa_row2_col6\" class=\"data row2 col6\" >0.137044</td>\n      <td id=\"T_7e7fa_row2_col7\" class=\"data row2 col7\" >0.137044</td>\n      <td id=\"T_7e7fa_row2_col8\" class=\"data row2 col8\" >0.161683</td>\n      <td id=\"T_7e7fa_row2_col9\" class=\"data row2 col9\" >0.176964</td>\n      <td id=\"T_7e7fa_row2_col10\" class=\"data row2 col10\" >0.000000</td>\n      <td id=\"T_7e7fa_row2_col11\" class=\"data row2 col11\" >0.000001</td>\n      <td id=\"T_7e7fa_row2_col12\" class=\"data row2 col12\" >32,33</td>\n      <td id=\"T_7e7fa_row2_col13\" class=\"data row2 col13\" >17.950000</td>\n      <td id=\"T_7e7fa_row2_col14\" class=\"data row2 col14\" >0.525000</td>\n    </tr>\n    <tr>\n      <th id=\"T_7e7fa_level0_row3\" class=\"row_heading level0 row3\" >4</th>\n      <td id=\"T_7e7fa_row3_col0\" class=\"data row3 col0\" >TMD_C_JMD_C-Seg...3,4)-HUTJ700102</td>\n      <td id=\"T_7e7fa_row3_col1\" class=\"data row3 col1\" >Energy</td>\n      <td id=\"T_7e7fa_row3_col2\" class=\"data row3 col2\" >Entropy</td>\n      <td id=\"T_7e7fa_row3_col3\" class=\"data row3 col3\" >Entropy</td>\n      <td id=\"T_7e7fa_row3_col4\" class=\"data row3 col4\" >Absolute entrop...Hutchens, 1970)</td>\n      <td id=\"T_7e7fa_row3_col5\" class=\"data row3 col5\" >0.229000</td>\n      <td id=\"T_7e7fa_row3_col6\" class=\"data row3 col6\" >0.098224</td>\n      <td id=\"T_7e7fa_row3_col7\" class=\"data row3 col7\" >0.098224</td>\n      <td id=\"T_7e7fa_row3_col8\" class=\"data row3 col8\" >0.106865</td>\n      <td id=\"T_7e7fa_row3_col9\" class=\"data row3 col9\" >0.124608</td>\n      <td id=\"T_7e7fa_row3_col10\" class=\"data row3 col10\" >0.000000</td>\n      <td id=\"T_7e7fa_row3_col11\" class=\"data row3 col11\" >0.000001</td>\n      <td id=\"T_7e7fa_row3_col12\" class=\"data row3 col12\" >31,32,33,34,35</td>\n      <td id=\"T_7e7fa_row3_col13\" class=\"data row3 col13\" >26.841000</td>\n      <td id=\"T_7e7fa_row3_col14\" class=\"data row3 col14\" >0.606000</td>\n    </tr>\n    <tr>\n      <th id=\"T_7e7fa_level0_row4\" class=\"row_heading level0 row4\" >5</th>\n      <td id=\"T_7e7fa_row4_col0\" class=\"data row4 col0\" >TMD_C_JMD_C-Seg...6,9)-RADA880106</td>\n      <td id=\"T_7e7fa_row4_col1\" class=\"data row4 col1\" >ASA/Volume</td>\n      <td id=\"T_7e7fa_row4_col2\" class=\"data row4 col2\" >Volume</td>\n      <td id=\"T_7e7fa_row4_col3\" class=\"data row4 col3\" >Accessible surface area (ASA)</td>\n      <td id=\"T_7e7fa_row4_col4\" class=\"data row4 col4\" >Accessible surf...olfenden, 1988)</td>\n      <td id=\"T_7e7fa_row4_col5\" class=\"data row4 col5\" >0.223000</td>\n      <td id=\"T_7e7fa_row4_col6\" class=\"data row4 col6\" >0.095071</td>\n      <td id=\"T_7e7fa_row4_col7\" class=\"data row4 col7\" >0.095071</td>\n      <td id=\"T_7e7fa_row4_col8\" class=\"data row4 col8\" >0.114758</td>\n      <td id=\"T_7e7fa_row4_col9\" class=\"data row4 col9\" >0.132829</td>\n      <td id=\"T_7e7fa_row4_col10\" class=\"data row4 col10\" >0.000000</td>\n      <td id=\"T_7e7fa_row4_col11\" class=\"data row4 col11\" >0.000002</td>\n      <td id=\"T_7e7fa_row4_col12\" class=\"data row4 col12\" >32,33</td>\n      <td id=\"T_7e7fa_row4_col13\" class=\"data row4 col13\" >15.644000</td>\n      <td id=\"T_7e7fa_row4_col14\" class=\"data row4 col14\" >0.779000</td>\n    </tr>\n    <tr>\n      <th id=\"T_7e7fa_level0_row5\" class=\"row_heading level0 row5\" >6</th>\n      <td id=\"T_7e7fa_row5_col0\" class=\"data row5 col0\" >TMD_C_JMD_C-Seg...2,3)-KLEP840101</td>\n      <td id=\"T_7e7fa_row5_col1\" class=\"data row5 col1\" >Energy</td>\n      <td id=\"T_7e7fa_row5_col2\" class=\"data row5 col2\" >Charge</td>\n      <td id=\"T_7e7fa_row5_col3\" class=\"data row5 col3\" >Charge</td>\n      <td id=\"T_7e7fa_row5_col4\" class=\"data row5 col4\" >Net charge (Kle...n et al., 1984)</td>\n      <td id=\"T_7e7fa_row5_col5\" class=\"data row5 col5\" >0.222000</td>\n      <td id=\"T_7e7fa_row5_col6\" class=\"data row5 col6\" >0.058671</td>\n      <td id=\"T_7e7fa_row5_col7\" class=\"data row5 col7\" >0.058671</td>\n      <td id=\"T_7e7fa_row5_col8\" class=\"data row5 col8\" >0.064895</td>\n      <td id=\"T_7e7fa_row5_col9\" class=\"data row5 col9\" >0.069547</td>\n      <td id=\"T_7e7fa_row5_col10\" class=\"data row5 col10\" >0.000000</td>\n      <td id=\"T_7e7fa_row5_col11\" class=\"data row5 col11\" >0.000001</td>\n      <td id=\"T_7e7fa_row5_col12\" class=\"data row5 col12\" >27,28,29,30,31,32,33</td>\n      <td id=\"T_7e7fa_row5_col13\" class=\"data row5 col13\" >7.099000</td>\n      <td id=\"T_7e7fa_row5_col14\" class=\"data row5 col14\" >0.542000</td>\n    </tr>\n    <tr>\n      <th id=\"T_7e7fa_level0_row6\" class=\"row_heading level0 row6\" >7</th>\n      <td id=\"T_7e7fa_row6_col0\" class=\"data row6 col0\" >TMD_C_JMD_C-Seg...4,5)-FAUJ880109</td>\n      <td id=\"T_7e7fa_row6_col1\" class=\"data row6 col1\" >Energy</td>\n      <td id=\"T_7e7fa_row6_col2\" class=\"data row6 col2\" >Isoelectric point</td>\n      <td id=\"T_7e7fa_row6_col3\" class=\"data row6 col3\" >Number hydrogen bond donors</td>\n      <td id=\"T_7e7fa_row6_col4\" class=\"data row6 col4\" >Number of hydro...e et al., 1988)</td>\n      <td id=\"T_7e7fa_row6_col5\" class=\"data row6 col5\" >0.215000</td>\n      <td id=\"T_7e7fa_row6_col6\" class=\"data row6 col6\" >0.146661</td>\n      <td id=\"T_7e7fa_row6_col7\" class=\"data row6 col7\" >0.146661</td>\n      <td id=\"T_7e7fa_row6_col8\" class=\"data row6 col8\" >0.174609</td>\n      <td id=\"T_7e7fa_row6_col9\" class=\"data row6 col9\" >0.188034</td>\n      <td id=\"T_7e7fa_row6_col10\" class=\"data row6 col10\" >0.000000</td>\n      <td id=\"T_7e7fa_row6_col11\" class=\"data row6 col11\" >0.000004</td>\n      <td id=\"T_7e7fa_row6_col12\" class=\"data row6 col12\" >33,34,35,36</td>\n      <td id=\"T_7e7fa_row6_col13\" class=\"data row6 col13\" >10.722000</td>\n      <td id=\"T_7e7fa_row6_col14\" class=\"data row6 col14\" >0.350000</td>\n    </tr>\n  </tbody>\n</table>\n"
     },
     "metadata": {},
     "output_type": "display_data"
    }
   ],
   "source": [
    "# Drop existing feature columns and insert new ones\n",
    "df_feat = tm.add_feat_importance(df_feat=df_feat, drop=True)\n",
    "aa.display_df(df_feat)"
   ],
   "metadata": {
    "collapsed": false,
    "ExecuteTime": {
     "end_time": "2024-01-14T18:44:16.743801089Z",
     "start_time": "2024-01-14T18:44:16.668468502Z"
    }
   },
   "id": "a5a9d7f4e967fc3f"
  }
 ],
 "metadata": {
  "kernelspec": {
   "display_name": "Python 3",
   "language": "python",
   "name": "python3"
  },
  "language_info": {
   "codemirror_mode": {
    "name": "ipython",
    "version": 2
   },
   "file_extension": ".py",
   "mimetype": "text/x-python",
   "name": "python",
   "nbconvert_exporter": "python",
   "pygments_lexer": "ipython2",
   "version": "2.7.6"
  }
 },
 "nbformat": 4,
 "nbformat_minor": 5
}
