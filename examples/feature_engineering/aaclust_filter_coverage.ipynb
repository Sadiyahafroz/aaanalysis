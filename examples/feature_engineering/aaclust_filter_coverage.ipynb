{
 "cells": [
  {
   "cell_type": "markdown",
   "source": [
    "We load an example scale dataset to showcase the ``AAclust().filter_coverage()`` method:"
   ],
   "metadata": {
    "collapsed": false
   },
   "id": "b579e5b65c1e10e6"
  },
  {
   "cell_type": "code",
   "execution_count": 6,
   "outputs": [],
   "source": [
    "import aaanalysis as aa\n",
    "aa.options[\"verbose\"] = False\n",
    "\n",
    "# Create test dataset of 100 amino acid scales\n",
    "df_scales = aa.load_scales()\n",
    "scale_ids = list(df_scales.columns)[:100]\n",
    "X = df_scales[scale_ids].T.values\n",
    "\n",
    "# Create list of subcategories to be covered\n",
    "df_cat = aa.load_scales(name=\"scales_cat\")\n",
    "names_ref = df_cat[df_cat[\"scale_id\"].isin(scale_ids)][\"subcategory\"].tolist()\n",
    "\n",
    "# Create AAclu model\n",
    "aac = aa.AAclust()"
   ],
   "metadata": {
    "collapsed": false,
    "ExecuteTime": {
     "end_time": "2024-07-01T12:01:06.950226733Z",
     "start_time": "2024-07-01T12:01:06.895543108Z"
    }
   },
   "id": "376640688cf8ec0c"
  },
  {
   "cell_type": "markdown",
   "source": [
    "Internally, the methods fits the ``AAclust`` model and computes iteratively a subcategory coverage until a given threshold is reached. Provide the scales as feature matrix (``X``) and as id list (``scale_ids``), along with a category DataFrame (``df_cat``) and the list of subcategories to cover (``names_ref``): "
   ],
   "metadata": {
    "collapsed": false
   },
   "id": "1f87a1f2dacafdbc"
  },
  {
   "cell_type": "code",
   "execution_count": 7,
   "outputs": [
    {
     "name": "stdout",
     "output_type": "stream",
     "text": [
      "From 100 scales, the following 69 scales were selected:\n",
      "DataFrame shape: (69, 5)\n"
     ]
    },
    {
     "data": {
      "text/plain": "<IPython.core.display.HTML object>",
      "text/html": "<style type=\"text/css\">\n#T_096e2 thead th {\n  background-color: white;\n  color: black;\n}\n#T_096e2 tbody tr:nth-child(odd) {\n  background-color: #f2f2f2;\n}\n#T_096e2 tbody tr:nth-child(even) {\n  background-color: white;\n}\n#T_096e2 th {\n  padding: 5px;\n  white-space: nowrap;\n}\n#T_096e2  td {\n  padding: 5px;\n  white-space: nowrap;\n}\n</style>\n<table id=\"T_096e2\" style='display:block; max-height: 300px; max-width: 100%; overflow-x: auto; overflow-y: auto;'>\n  <thead>\n    <tr>\n      <th class=\"blank level0\" >&nbsp;</th>\n      <th id=\"T_096e2_level0_col0\" class=\"col_heading level0 col0\" >scale_id</th>\n      <th id=\"T_096e2_level0_col1\" class=\"col_heading level0 col1\" >category</th>\n      <th id=\"T_096e2_level0_col2\" class=\"col_heading level0 col2\" >subcategory</th>\n      <th id=\"T_096e2_level0_col3\" class=\"col_heading level0 col3\" >scale_name</th>\n      <th id=\"T_096e2_level0_col4\" class=\"col_heading level0 col4\" >scale_description</th>\n    </tr>\n  </thead>\n  <tbody>\n    <tr>\n      <th id=\"T_096e2_level0_row0\" class=\"row_heading level0 row0\" >7</th>\n      <td id=\"T_096e2_row0_col0\" class=\"data row0 col0\" >CHOC760102</td>\n      <td id=\"T_096e2_row0_col1\" class=\"data row0 col1\" >ASA/Volume</td>\n      <td id=\"T_096e2_row0_col2\" class=\"data row0 col2\" >Accessible surface area (ASA)</td>\n      <td id=\"T_096e2_row0_col3\" class=\"data row0 col3\" >ASA (folded proteins)</td>\n      <td id=\"T_096e2_row0_col4\" class=\"data row0 col4\" >Residue accessi...(Chothia, 1976)</td>\n    </tr>\n    <tr>\n      <th id=\"T_096e2_level0_row1\" class=\"row_heading level0 row1\" >24</th>\n      <td id=\"T_096e2_row1_col0\" class=\"data row1 col0\" >BIOV880101</td>\n      <td id=\"T_096e2_row1_col1\" class=\"data row1 col1\" >ASA/Volume</td>\n      <td id=\"T_096e2_row1_col2\" class=\"data row1 col2\" >Buried</td>\n      <td id=\"T_096e2_row1_col3\" class=\"data row1 col3\" >Buriability</td>\n      <td id=\"T_096e2_row1_col4\" class=\"data row1 col4\" >Information val...u et al., 1988)</td>\n    </tr>\n    <tr>\n      <th id=\"T_096e2_level0_row2\" class=\"row_heading level0 row2\" >28</th>\n      <td id=\"T_096e2_row2_col0\" class=\"data row2 col0\" >ARGP820103</td>\n      <td id=\"T_096e2_row2_col1\" class=\"data row2 col1\" >ASA/Volume</td>\n      <td id=\"T_096e2_row2_col2\" class=\"data row2 col2\" >Buried</td>\n      <td id=\"T_096e2_row2_col3\" class=\"data row2 col3\" >Buried</td>\n      <td id=\"T_096e2_row2_col4\" class=\"data row2 col4\" >Membrane-buried...s et al., 1982)</td>\n    </tr>\n    <tr>\n      <th id=\"T_096e2_level0_row3\" class=\"row_heading level0 row3\" >30</th>\n      <td id=\"T_096e2_row3_col0\" class=\"data row3 col0\" >CHOC760104</td>\n      <td id=\"T_096e2_row3_col1\" class=\"data row3 col1\" >ASA/Volume</td>\n      <td id=\"T_096e2_row3_col2\" class=\"data row3 col2\" >Buried</td>\n      <td id=\"T_096e2_row3_col3\" class=\"data row3 col3\" >Buried</td>\n      <td id=\"T_096e2_row3_col4\" class=\"data row3 col4\" >Proportion of r...(Chothia, 1976)</td>\n    </tr>\n    <tr>\n      <th id=\"T_096e2_level0_row4\" class=\"row_heading level0 row4\" >46</th>\n      <td id=\"T_096e2_row4_col0\" class=\"data row4 col0\" >COHE430101</td>\n      <td id=\"T_096e2_row4_col1\" class=\"data row4 col1\" >ASA/Volume</td>\n      <td id=\"T_096e2_row4_col2\" class=\"data row4 col2\" >Partial specific volume</td>\n      <td id=\"T_096e2_row4_col3\" class=\"data row4 col3\" >Partial specific volume</td>\n      <td id=\"T_096e2_row4_col4\" class=\"data row4 col4\" >Partial specifi...n-Edsall, 1943)</td>\n    </tr>\n  </tbody>\n</table>\n"
     },
     "metadata": {},
     "output_type": "display_data"
    }
   ],
   "source": [
    "# Select scales based on subcategory coverage\n",
    "selected_scale_ids = aac.filter_coverage(X, scale_ids=scale_ids, df_cat=df_cat, names_ref=names_ref)\n",
    "print(f\"From 100 scales, the following {len(selected_scale_ids)} scales were selected:\")\n",
    "df_cat_selected = df_cat[df_cat[\"scale_id\"].isin(selected_scale_ids)]\n",
    "aa.display_df(df_cat_selected, show_shape=True, n_rows=5)"
   ],
   "metadata": {
    "collapsed": false,
    "ExecuteTime": {
     "end_time": "2024-07-01T12:01:09.219343360Z",
     "start_time": "2024-07-01T12:01:08.247292300Z"
    }
   },
   "id": "7c8aba23004a2d86"
  },
  {
   "cell_type": "markdown",
   "source": [
    "Adjust the subcategory coverage threshold using the ``min_coverage`` (default=100) parameter:"
   ],
   "metadata": {
    "collapsed": false
   },
   "id": "1ca794af24255806"
  },
  {
   "cell_type": "code",
   "execution_count": 8,
   "outputs": [
    {
     "name": "stdout",
     "output_type": "stream",
     "text": [
      "From 100 scales, the following 41 scales were selected:\n",
      "DataFrame shape: (41, 5)\n"
     ]
    },
    {
     "data": {
      "text/plain": "<IPython.core.display.HTML object>",
      "text/html": "<style type=\"text/css\">\n#T_701eb thead th {\n  background-color: white;\n  color: black;\n}\n#T_701eb tbody tr:nth-child(odd) {\n  background-color: #f2f2f2;\n}\n#T_701eb tbody tr:nth-child(even) {\n  background-color: white;\n}\n#T_701eb th {\n  padding: 5px;\n  white-space: nowrap;\n}\n#T_701eb  td {\n  padding: 5px;\n  white-space: nowrap;\n}\n</style>\n<table id=\"T_701eb\" style='display:block; max-height: 300px; max-width: 100%; overflow-x: auto; overflow-y: auto;'>\n  <thead>\n    <tr>\n      <th class=\"blank level0\" >&nbsp;</th>\n      <th id=\"T_701eb_level0_col0\" class=\"col_heading level0 col0\" >scale_id</th>\n      <th id=\"T_701eb_level0_col1\" class=\"col_heading level0 col1\" >category</th>\n      <th id=\"T_701eb_level0_col2\" class=\"col_heading level0 col2\" >subcategory</th>\n      <th id=\"T_701eb_level0_col3\" class=\"col_heading level0 col3\" >scale_name</th>\n      <th id=\"T_701eb_level0_col4\" class=\"col_heading level0 col4\" >scale_description</th>\n    </tr>\n  </thead>\n  <tbody>\n    <tr>\n      <th id=\"T_701eb_level0_row0\" class=\"row_heading level0 row0\" >24</th>\n      <td id=\"T_701eb_row0_col0\" class=\"data row0 col0\" >BIOV880101</td>\n      <td id=\"T_701eb_row0_col1\" class=\"data row0 col1\" >ASA/Volume</td>\n      <td id=\"T_701eb_row0_col2\" class=\"data row0 col2\" >Buried</td>\n      <td id=\"T_701eb_row0_col3\" class=\"data row0 col3\" >Buriability</td>\n      <td id=\"T_701eb_row0_col4\" class=\"data row0 col4\" >Information val...u et al., 1988)</td>\n    </tr>\n    <tr>\n      <th id=\"T_701eb_level0_row1\" class=\"row_heading level0 row1\" >28</th>\n      <td id=\"T_701eb_row1_col0\" class=\"data row1 col0\" >ARGP820103</td>\n      <td id=\"T_701eb_row1_col1\" class=\"data row1 col1\" >ASA/Volume</td>\n      <td id=\"T_701eb_row1_col2\" class=\"data row1 col2\" >Buried</td>\n      <td id=\"T_701eb_row1_col3\" class=\"data row1 col3\" >Buried</td>\n      <td id=\"T_701eb_row1_col4\" class=\"data row1 col4\" >Membrane-buried...s et al., 1982)</td>\n    </tr>\n    <tr>\n      <th id=\"T_701eb_level0_row2\" class=\"row_heading level0 row2\" >29</th>\n      <td id=\"T_701eb_row2_col0\" class=\"data row2 col0\" >CHOC760103</td>\n      <td id=\"T_701eb_row2_col1\" class=\"data row2 col1\" >ASA/Volume</td>\n      <td id=\"T_701eb_row2_col2\" class=\"data row2 col2\" >Buried</td>\n      <td id=\"T_701eb_row2_col3\" class=\"data row2 col3\" >Buried</td>\n      <td id=\"T_701eb_row2_col4\" class=\"data row2 col4\" >Proportion of r...(Chothia, 1976)</td>\n    </tr>\n    <tr>\n      <th id=\"T_701eb_level0_row3\" class=\"row_heading level0 row3\" >46</th>\n      <td id=\"T_701eb_row3_col0\" class=\"data row3 col0\" >COHE430101</td>\n      <td id=\"T_701eb_row3_col1\" class=\"data row3 col1\" >ASA/Volume</td>\n      <td id=\"T_701eb_row3_col2\" class=\"data row3 col2\" >Partial specific volume</td>\n      <td id=\"T_701eb_row3_col3\" class=\"data row3 col3\" >Partial specific volume</td>\n      <td id=\"T_701eb_row3_col4\" class=\"data row3 col4\" >Partial specifi...n-Edsall, 1943)</td>\n    </tr>\n    <tr>\n      <th id=\"T_701eb_level0_row4\" class=\"row_heading level0 row4\" >48</th>\n      <td id=\"T_701eb_row4_col0\" class=\"data row4 col0\" >CHOC760101</td>\n      <td id=\"T_701eb_row4_col1\" class=\"data row4 col1\" >ASA/Volume</td>\n      <td id=\"T_701eb_row4_col2\" class=\"data row4 col2\" >Volume</td>\n      <td id=\"T_701eb_row4_col3\" class=\"data row4 col3\" >Accessible surface area (ASA)</td>\n      <td id=\"T_701eb_row4_col4\" class=\"data row4 col4\" >Residue accessi...(Chothia, 1976)</td>\n    </tr>\n  </tbody>\n</table>\n"
     },
     "metadata": {},
     "output_type": "display_data"
    }
   ],
   "source": [
    "# Select scales using a subcategory coverage of 50%\n",
    "selected_scale_ids = aac.filter_coverage(X, scale_ids=scale_ids, df_cat=df_cat, names_ref=names_ref, min_coverage=50)\n",
    "print(f\"From 100 scales, the following {len(selected_scale_ids)} scales were selected:\")\n",
    "df_cat_selected = df_cat[df_cat[\"scale_id\"].isin(selected_scale_ids)]\n",
    "aa.display_df(df_cat_selected, show_shape=True, n_rows=5)"
   ],
   "metadata": {
    "collapsed": false,
    "ExecuteTime": {
     "end_time": "2024-07-01T12:01:10.519883056Z",
     "start_time": "2024-07-01T12:01:10.479240121Z"
    }
   },
   "id": "ac808ecae1fa7119"
  },
  {
   "cell_type": "markdown",
   "source": [
    "Instead of using the 'subcategory' coverage, you can compute the coverage of 'category' or 'scale_name' by adjusting the ``col_name`` (default='subcategory') parameter:"
   ],
   "metadata": {
    "collapsed": false
   },
   "id": "8e7349c5db998a65"
  },
  {
   "cell_type": "code",
   "execution_count": 9,
   "outputs": [
    {
     "name": "stdout",
     "output_type": "stream",
     "text": [
      "From 100 scales, the following 23 scales were selected:\n",
      "DataFrame shape: (23, 5)\n"
     ]
    },
    {
     "data": {
      "text/plain": "<IPython.core.display.HTML object>",
      "text/html": "<style type=\"text/css\">\n#T_7f706 thead th {\n  background-color: white;\n  color: black;\n}\n#T_7f706 tbody tr:nth-child(odd) {\n  background-color: #f2f2f2;\n}\n#T_7f706 tbody tr:nth-child(even) {\n  background-color: white;\n}\n#T_7f706 th {\n  padding: 5px;\n  white-space: nowrap;\n}\n#T_7f706  td {\n  padding: 5px;\n  white-space: nowrap;\n}\n</style>\n<table id=\"T_7f706\" style='display:block; max-height: 300px; max-width: 100%; overflow-x: auto; overflow-y: auto;'>\n  <thead>\n    <tr>\n      <th class=\"blank level0\" >&nbsp;</th>\n      <th id=\"T_7f706_level0_col0\" class=\"col_heading level0 col0\" >scale_id</th>\n      <th id=\"T_7f706_level0_col1\" class=\"col_heading level0 col1\" >category</th>\n      <th id=\"T_7f706_level0_col2\" class=\"col_heading level0 col2\" >subcategory</th>\n      <th id=\"T_7f706_level0_col3\" class=\"col_heading level0 col3\" >scale_name</th>\n      <th id=\"T_7f706_level0_col4\" class=\"col_heading level0 col4\" >scale_description</th>\n    </tr>\n  </thead>\n  <tbody>\n    <tr>\n      <th id=\"T_7f706_level0_row0\" class=\"row_heading level0 row0\" >24</th>\n      <td id=\"T_7f706_row0_col0\" class=\"data row0 col0\" >BIOV880101</td>\n      <td id=\"T_7f706_row0_col1\" class=\"data row0 col1\" >ASA/Volume</td>\n      <td id=\"T_7f706_row0_col2\" class=\"data row0 col2\" >Buried</td>\n      <td id=\"T_7f706_row0_col3\" class=\"data row0 col3\" >Buriability</td>\n      <td id=\"T_7f706_row0_col4\" class=\"data row0 col4\" >Information val...u et al., 1988)</td>\n    </tr>\n    <tr>\n      <th id=\"T_7f706_level0_row1\" class=\"row_heading level0 row1\" >30</th>\n      <td id=\"T_7f706_row1_col0\" class=\"data row1 col0\" >CHOC760104</td>\n      <td id=\"T_7f706_row1_col1\" class=\"data row1 col1\" >ASA/Volume</td>\n      <td id=\"T_7f706_row1_col2\" class=\"data row1 col2\" >Buried</td>\n      <td id=\"T_7f706_row1_col3\" class=\"data row1 col3\" >Buried</td>\n      <td id=\"T_7f706_row1_col4\" class=\"data row1 col4\" >Proportion of r...(Chothia, 1976)</td>\n    </tr>\n    <tr>\n      <th id=\"T_7f706_level0_row2\" class=\"row_heading level0 row2\" >46</th>\n      <td id=\"T_7f706_row2_col0\" class=\"data row2 col0\" >COHE430101</td>\n      <td id=\"T_7f706_row2_col1\" class=\"data row2 col1\" >ASA/Volume</td>\n      <td id=\"T_7f706_row2_col2\" class=\"data row2 col2\" >Partial specific volume</td>\n      <td id=\"T_7f706_row2_col3\" class=\"data row2 col3\" >Partial specific volume</td>\n      <td id=\"T_7f706_row2_col4\" class=\"data row2 col4\" >Partial specifi...n-Edsall, 1943)</td>\n    </tr>\n    <tr>\n      <th id=\"T_7f706_level0_row3\" class=\"row_heading level0 row3\" >48</th>\n      <td id=\"T_7f706_row3_col0\" class=\"data row3 col0\" >CHOC760101</td>\n      <td id=\"T_7f706_row3_col1\" class=\"data row3 col1\" >ASA/Volume</td>\n      <td id=\"T_7f706_row3_col2\" class=\"data row3 col2\" >Volume</td>\n      <td id=\"T_7f706_row3_col3\" class=\"data row3 col3\" >Accessible surface area (ASA)</td>\n      <td id=\"T_7f706_row3_col4\" class=\"data row3 col4\" >Residue accessi...(Chothia, 1976)</td>\n    </tr>\n    <tr>\n      <th id=\"T_7f706_level0_row4\" class=\"row_heading level0 row4\" >54</th>\n      <td id=\"T_7f706_row4_col0\" class=\"data row4 col0\" >DAWD720101</td>\n      <td id=\"T_7f706_row4_col1\" class=\"data row4 col1\" >ASA/Volume</td>\n      <td id=\"T_7f706_row4_col2\" class=\"data row4 col2\" >Volume</td>\n      <td id=\"T_7f706_row4_col3\" class=\"data row4 col3\" >Volume</td>\n      <td id=\"T_7f706_row4_col4\" class=\"data row4 col4\" >Size (Dawson, 1972)</td>\n    </tr>\n  </tbody>\n</table>\n"
     },
     "metadata": {},
     "output_type": "display_data"
    }
   ],
   "source": [
    "# Create list of categories to be covered\n",
    "df_cat = aa.load_scales(name=\"scales_cat\")\n",
    "names_ref = df_cat[df_cat[\"scale_id\"].isin(scale_ids)][\"category\"].tolist()\n",
    "\n",
    "# Select scales using a category coverage of 100%\n",
    "selected_scale_ids = aac.filter_coverage(X, scale_ids=scale_ids, df_cat=df_cat, names_ref=names_ref, col_name=\"category\")\n",
    "print(f\"From 100 scales, the following {len(selected_scale_ids)} scales were selected:\")\n",
    "df_cat_selected = df_cat[df_cat[\"scale_id\"].isin(selected_scale_ids)]\n",
    "aa.display_df(df_cat_selected, show_shape=True, n_rows=5)"
   ],
   "metadata": {
    "collapsed": false,
    "ExecuteTime": {
     "end_time": "2024-07-01T12:01:12.321903255Z",
     "start_time": "2024-07-01T12:01:12.160879261Z"
    }
   },
   "id": "6ec0a4614bde0579"
  }
 ],
 "metadata": {
  "kernelspec": {
   "display_name": "Python 3",
   "language": "python",
   "name": "python3"
  },
  "language_info": {
   "codemirror_mode": {
    "name": "ipython",
    "version": 2
   },
   "file_extension": ".py",
   "mimetype": "text/x-python",
   "name": "python",
   "nbconvert_exporter": "python",
   "pygments_lexer": "ipython2",
   "version": "2.7.6"
  }
 },
 "nbformat": 4,
 "nbformat_minor": 5
}
